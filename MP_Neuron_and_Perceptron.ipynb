{
  "nbformat": 4,
  "nbformat_minor": 0,
  "metadata": {
    "colab": {
      "name": "MP Neuron and Perceptron.ipynb",
      "version": "0.3.2",
      "provenance": []
    },
    "kernelspec": {
      "name": "python3",
      "display_name": "Python 3"
    }
  },
  "cells": [
    {
      "metadata": {
        "id": "eD_xQ4s7VlsT",
        "colab_type": "text"
      },
      "cell_type": "markdown",
      "source": [
        "# LOADING DATASET"
      ]
    },
    {
      "metadata": {
        "id": "UpZy4oq7P64U",
        "colab_type": "code",
        "colab": {}
      },
      "cell_type": "code",
      "source": [
        "import sklearn.datasets\n",
        "import numpy as np\n",
        "import pandas as pd"
      ],
      "execution_count": 0,
      "outputs": []
    },
    {
      "metadata": {
        "id": "khbYrSSHQGlf",
        "colab_type": "code",
        "colab": {}
      },
      "cell_type": "code",
      "source": [
        "breast_cancer=sklearn.datasets.load_breast_cancer()"
      ],
      "execution_count": 0,
      "outputs": []
    },
    {
      "metadata": {
        "id": "dDd6-aN7QM08",
        "colab_type": "code",
        "colab": {}
      },
      "cell_type": "code",
      "source": [
        "x=breast_cancer.data\n",
        "y=breast_cancer.target"
      ],
      "execution_count": 0,
      "outputs": []
    },
    {
      "metadata": {
        "id": "Yz6X89_kQSDo",
        "colab_type": "code",
        "colab": {
          "base_uri": "https://localhost:8080/",
          "height": 428
        },
        "outputId": "b2299adf-0337-4d56-f148-5f8bdfabb006"
      },
      "cell_type": "code",
      "source": [
        "print(x)\n",
        "print(y)"
      ],
      "execution_count": 4,
      "outputs": [
        {
          "output_type": "stream",
          "text": [
            "[[1.799e+01 1.038e+01 1.228e+02 ... 2.654e-01 4.601e-01 1.189e-01]\n",
            " [2.057e+01 1.777e+01 1.329e+02 ... 1.860e-01 2.750e-01 8.902e-02]\n",
            " [1.969e+01 2.125e+01 1.300e+02 ... 2.430e-01 3.613e-01 8.758e-02]\n",
            " ...\n",
            " [1.660e+01 2.808e+01 1.083e+02 ... 1.418e-01 2.218e-01 7.820e-02]\n",
            " [2.060e+01 2.933e+01 1.401e+02 ... 2.650e-01 4.087e-01 1.240e-01]\n",
            " [7.760e+00 2.454e+01 4.792e+01 ... 0.000e+00 2.871e-01 7.039e-02]]\n",
            "[0 0 0 0 0 0 0 0 0 0 0 0 0 0 0 0 0 0 0 1 1 1 0 0 0 0 0 0 0 0 0 0 0 0 0 0 0\n",
            " 1 0 0 0 0 0 0 0 0 1 0 1 1 1 1 1 0 0 1 0 0 1 1 1 1 0 1 0 0 1 1 1 1 0 1 0 0\n",
            " 1 0 1 0 0 1 1 1 0 0 1 0 0 0 1 1 1 0 1 1 0 0 1 1 1 0 0 1 1 1 1 0 1 1 0 1 1\n",
            " 1 1 1 1 1 1 0 0 0 1 0 0 1 1 1 0 0 1 0 1 0 0 1 0 0 1 1 0 1 1 0 1 1 1 1 0 1\n",
            " 1 1 1 1 1 1 1 1 0 1 1 1 1 0 0 1 0 1 1 0 0 1 1 0 0 1 1 1 1 0 1 1 0 0 0 1 0\n",
            " 1 0 1 1 1 0 1 1 0 0 1 0 0 0 0 1 0 0 0 1 0 1 0 1 1 0 1 0 0 0 0 1 1 0 0 1 1\n",
            " 1 0 1 1 1 1 1 0 0 1 1 0 1 1 0 0 1 0 1 1 1 1 0 1 1 1 1 1 0 1 0 0 0 0 0 0 0\n",
            " 0 0 0 0 0 0 0 1 1 1 1 1 1 0 1 0 1 1 0 1 1 0 1 0 0 1 1 1 1 1 1 1 1 1 1 1 1\n",
            " 1 0 1 1 0 1 0 1 1 1 1 1 1 1 1 1 1 1 1 1 1 0 1 1 1 0 1 0 1 1 1 1 0 0 0 1 1\n",
            " 1 1 0 1 0 1 0 1 1 1 0 1 1 1 1 1 1 1 0 0 0 1 1 1 1 1 1 1 1 1 1 1 0 0 1 0 0\n",
            " 0 1 0 0 1 1 1 1 1 0 1 1 1 1 1 0 1 1 1 0 1 1 0 0 1 1 1 1 1 1 0 1 1 1 1 1 1\n",
            " 1 0 1 1 1 1 1 0 1 1 0 1 1 1 1 1 1 1 1 1 1 1 1 0 1 0 0 1 0 1 1 1 1 1 0 1 1\n",
            " 0 1 0 1 1 0 1 0 1 1 1 1 1 1 1 1 0 0 1 1 1 1 1 1 0 1 1 1 1 1 1 1 1 1 1 0 1\n",
            " 1 1 1 1 1 1 0 1 0 1 1 0 1 1 1 1 1 0 0 1 0 1 0 1 1 1 1 1 0 1 1 0 1 0 1 0 0\n",
            " 1 1 1 0 1 1 1 1 1 1 1 1 1 1 1 0 1 0 0 1 1 1 1 1 1 1 1 1 1 1 1 1 1 1 1 1 1\n",
            " 1 1 1 1 1 1 1 0 0 0 0 0 0 1]\n"
          ],
          "name": "stdout"
        }
      ]
    },
    {
      "metadata": {
        "id": "qHZ4-kfxQUkm",
        "colab_type": "code",
        "colab": {
          "base_uri": "https://localhost:8080/",
          "height": 34
        },
        "outputId": "e604c8ba-6d0d-4688-92b1-c069ef0ea8b2"
      },
      "cell_type": "code",
      "source": [
        "print(x.shape,y.shape)"
      ],
      "execution_count": 7,
      "outputs": [
        {
          "output_type": "stream",
          "text": [
            "(569, 30) (569,)\n"
          ],
          "name": "stdout"
        }
      ]
    },
    {
      "metadata": {
        "id": "hsmvlP83QXas",
        "colab_type": "code",
        "colab": {}
      },
      "cell_type": "code",
      "source": [
        "data=pd.DataFrame(breast_cancer.data,columns=breast_cancer.feature_names)"
      ],
      "execution_count": 0,
      "outputs": []
    },
    {
      "metadata": {
        "id": "oymZ7Tz2UtX2",
        "colab_type": "text"
      },
      "cell_type": "markdown",
      "source": [
        "Adding a column"
      ]
    },
    {
      "metadata": {
        "id": "B9zebuWzQjdL",
        "colab_type": "code",
        "colab": {}
      },
      "cell_type": "code",
      "source": [
        "data['class']=breast_cancer.target"
      ],
      "execution_count": 0,
      "outputs": []
    },
    {
      "metadata": {
        "id": "m7GRV3sGUvaG",
        "colab_type": "code",
        "colab": {
          "base_uri": "https://localhost:8080/",
          "height": 287
        },
        "outputId": "fcf14d14-59ef-4fe0-826c-f4bcec82afb7"
      },
      "cell_type": "code",
      "source": [
        "data.head()"
      ],
      "execution_count": 15,
      "outputs": [
        {
          "output_type": "execute_result",
          "data": {
            "text/html": [
              "<div>\n",
              "<style scoped>\n",
              "    .dataframe tbody tr th:only-of-type {\n",
              "        vertical-align: middle;\n",
              "    }\n",
              "\n",
              "    .dataframe tbody tr th {\n",
              "        vertical-align: top;\n",
              "    }\n",
              "\n",
              "    .dataframe thead th {\n",
              "        text-align: right;\n",
              "    }\n",
              "</style>\n",
              "<table border=\"1\" class=\"dataframe\">\n",
              "  <thead>\n",
              "    <tr style=\"text-align: right;\">\n",
              "      <th></th>\n",
              "      <th>mean radius</th>\n",
              "      <th>mean texture</th>\n",
              "      <th>mean perimeter</th>\n",
              "      <th>mean area</th>\n",
              "      <th>mean smoothness</th>\n",
              "      <th>mean compactness</th>\n",
              "      <th>mean concavity</th>\n",
              "      <th>mean concave points</th>\n",
              "      <th>mean symmetry</th>\n",
              "      <th>mean fractal dimension</th>\n",
              "      <th>...</th>\n",
              "      <th>worst texture</th>\n",
              "      <th>worst perimeter</th>\n",
              "      <th>worst area</th>\n",
              "      <th>worst smoothness</th>\n",
              "      <th>worst compactness</th>\n",
              "      <th>worst concavity</th>\n",
              "      <th>worst concave points</th>\n",
              "      <th>worst symmetry</th>\n",
              "      <th>worst fractal dimension</th>\n",
              "      <th>class</th>\n",
              "    </tr>\n",
              "  </thead>\n",
              "  <tbody>\n",
              "    <tr>\n",
              "      <th>0</th>\n",
              "      <td>17.99</td>\n",
              "      <td>10.38</td>\n",
              "      <td>122.80</td>\n",
              "      <td>1001.0</td>\n",
              "      <td>0.11840</td>\n",
              "      <td>0.27760</td>\n",
              "      <td>0.3001</td>\n",
              "      <td>0.14710</td>\n",
              "      <td>0.2419</td>\n",
              "      <td>0.07871</td>\n",
              "      <td>...</td>\n",
              "      <td>17.33</td>\n",
              "      <td>184.60</td>\n",
              "      <td>2019.0</td>\n",
              "      <td>0.1622</td>\n",
              "      <td>0.6656</td>\n",
              "      <td>0.7119</td>\n",
              "      <td>0.2654</td>\n",
              "      <td>0.4601</td>\n",
              "      <td>0.11890</td>\n",
              "      <td>0</td>\n",
              "    </tr>\n",
              "    <tr>\n",
              "      <th>1</th>\n",
              "      <td>20.57</td>\n",
              "      <td>17.77</td>\n",
              "      <td>132.90</td>\n",
              "      <td>1326.0</td>\n",
              "      <td>0.08474</td>\n",
              "      <td>0.07864</td>\n",
              "      <td>0.0869</td>\n",
              "      <td>0.07017</td>\n",
              "      <td>0.1812</td>\n",
              "      <td>0.05667</td>\n",
              "      <td>...</td>\n",
              "      <td>23.41</td>\n",
              "      <td>158.80</td>\n",
              "      <td>1956.0</td>\n",
              "      <td>0.1238</td>\n",
              "      <td>0.1866</td>\n",
              "      <td>0.2416</td>\n",
              "      <td>0.1860</td>\n",
              "      <td>0.2750</td>\n",
              "      <td>0.08902</td>\n",
              "      <td>0</td>\n",
              "    </tr>\n",
              "    <tr>\n",
              "      <th>2</th>\n",
              "      <td>19.69</td>\n",
              "      <td>21.25</td>\n",
              "      <td>130.00</td>\n",
              "      <td>1203.0</td>\n",
              "      <td>0.10960</td>\n",
              "      <td>0.15990</td>\n",
              "      <td>0.1974</td>\n",
              "      <td>0.12790</td>\n",
              "      <td>0.2069</td>\n",
              "      <td>0.05999</td>\n",
              "      <td>...</td>\n",
              "      <td>25.53</td>\n",
              "      <td>152.50</td>\n",
              "      <td>1709.0</td>\n",
              "      <td>0.1444</td>\n",
              "      <td>0.4245</td>\n",
              "      <td>0.4504</td>\n",
              "      <td>0.2430</td>\n",
              "      <td>0.3613</td>\n",
              "      <td>0.08758</td>\n",
              "      <td>0</td>\n",
              "    </tr>\n",
              "    <tr>\n",
              "      <th>3</th>\n",
              "      <td>11.42</td>\n",
              "      <td>20.38</td>\n",
              "      <td>77.58</td>\n",
              "      <td>386.1</td>\n",
              "      <td>0.14250</td>\n",
              "      <td>0.28390</td>\n",
              "      <td>0.2414</td>\n",
              "      <td>0.10520</td>\n",
              "      <td>0.2597</td>\n",
              "      <td>0.09744</td>\n",
              "      <td>...</td>\n",
              "      <td>26.50</td>\n",
              "      <td>98.87</td>\n",
              "      <td>567.7</td>\n",
              "      <td>0.2098</td>\n",
              "      <td>0.8663</td>\n",
              "      <td>0.6869</td>\n",
              "      <td>0.2575</td>\n",
              "      <td>0.6638</td>\n",
              "      <td>0.17300</td>\n",
              "      <td>0</td>\n",
              "    </tr>\n",
              "    <tr>\n",
              "      <th>4</th>\n",
              "      <td>20.29</td>\n",
              "      <td>14.34</td>\n",
              "      <td>135.10</td>\n",
              "      <td>1297.0</td>\n",
              "      <td>0.10030</td>\n",
              "      <td>0.13280</td>\n",
              "      <td>0.1980</td>\n",
              "      <td>0.10430</td>\n",
              "      <td>0.1809</td>\n",
              "      <td>0.05883</td>\n",
              "      <td>...</td>\n",
              "      <td>16.67</td>\n",
              "      <td>152.20</td>\n",
              "      <td>1575.0</td>\n",
              "      <td>0.1374</td>\n",
              "      <td>0.2050</td>\n",
              "      <td>0.4000</td>\n",
              "      <td>0.1625</td>\n",
              "      <td>0.2364</td>\n",
              "      <td>0.07678</td>\n",
              "      <td>0</td>\n",
              "    </tr>\n",
              "  </tbody>\n",
              "</table>\n",
              "<p>5 rows × 31 columns</p>\n",
              "</div>"
            ],
            "text/plain": [
              "   mean radius  mean texture  mean perimeter  mean area  mean smoothness  \\\n",
              "0        17.99         10.38          122.80     1001.0          0.11840   \n",
              "1        20.57         17.77          132.90     1326.0          0.08474   \n",
              "2        19.69         21.25          130.00     1203.0          0.10960   \n",
              "3        11.42         20.38           77.58      386.1          0.14250   \n",
              "4        20.29         14.34          135.10     1297.0          0.10030   \n",
              "\n",
              "   mean compactness  mean concavity  mean concave points  mean symmetry  \\\n",
              "0           0.27760          0.3001              0.14710         0.2419   \n",
              "1           0.07864          0.0869              0.07017         0.1812   \n",
              "2           0.15990          0.1974              0.12790         0.2069   \n",
              "3           0.28390          0.2414              0.10520         0.2597   \n",
              "4           0.13280          0.1980              0.10430         0.1809   \n",
              "\n",
              "   mean fractal dimension  ...    worst texture  worst perimeter  worst area  \\\n",
              "0                 0.07871  ...            17.33           184.60      2019.0   \n",
              "1                 0.05667  ...            23.41           158.80      1956.0   \n",
              "2                 0.05999  ...            25.53           152.50      1709.0   \n",
              "3                 0.09744  ...            26.50            98.87       567.7   \n",
              "4                 0.05883  ...            16.67           152.20      1575.0   \n",
              "\n",
              "   worst smoothness  worst compactness  worst concavity  worst concave points  \\\n",
              "0            0.1622             0.6656           0.7119                0.2654   \n",
              "1            0.1238             0.1866           0.2416                0.1860   \n",
              "2            0.1444             0.4245           0.4504                0.2430   \n",
              "3            0.2098             0.8663           0.6869                0.2575   \n",
              "4            0.1374             0.2050           0.4000                0.1625   \n",
              "\n",
              "   worst symmetry  worst fractal dimension  class  \n",
              "0          0.4601                  0.11890      0  \n",
              "1          0.2750                  0.08902      0  \n",
              "2          0.3613                  0.08758      0  \n",
              "3          0.6638                  0.17300      0  \n",
              "4          0.2364                  0.07678      0  \n",
              "\n",
              "[5 rows x 31 columns]"
            ]
          },
          "metadata": {
            "tags": []
          },
          "execution_count": 15
        }
      ]
    },
    {
      "metadata": {
        "id": "JatN0CmOUwiH",
        "colab_type": "code",
        "colab": {
          "base_uri": "https://localhost:8080/",
          "height": 380
        },
        "outputId": "8b839e2b-86b0-4609-dbf3-ef571a4f5415"
      },
      "cell_type": "code",
      "source": [
        "data.describe()"
      ],
      "execution_count": 16,
      "outputs": [
        {
          "output_type": "execute_result",
          "data": {
            "text/html": [
              "<div>\n",
              "<style scoped>\n",
              "    .dataframe tbody tr th:only-of-type {\n",
              "        vertical-align: middle;\n",
              "    }\n",
              "\n",
              "    .dataframe tbody tr th {\n",
              "        vertical-align: top;\n",
              "    }\n",
              "\n",
              "    .dataframe thead th {\n",
              "        text-align: right;\n",
              "    }\n",
              "</style>\n",
              "<table border=\"1\" class=\"dataframe\">\n",
              "  <thead>\n",
              "    <tr style=\"text-align: right;\">\n",
              "      <th></th>\n",
              "      <th>mean radius</th>\n",
              "      <th>mean texture</th>\n",
              "      <th>mean perimeter</th>\n",
              "      <th>mean area</th>\n",
              "      <th>mean smoothness</th>\n",
              "      <th>mean compactness</th>\n",
              "      <th>mean concavity</th>\n",
              "      <th>mean concave points</th>\n",
              "      <th>mean symmetry</th>\n",
              "      <th>mean fractal dimension</th>\n",
              "      <th>...</th>\n",
              "      <th>worst texture</th>\n",
              "      <th>worst perimeter</th>\n",
              "      <th>worst area</th>\n",
              "      <th>worst smoothness</th>\n",
              "      <th>worst compactness</th>\n",
              "      <th>worst concavity</th>\n",
              "      <th>worst concave points</th>\n",
              "      <th>worst symmetry</th>\n",
              "      <th>worst fractal dimension</th>\n",
              "      <th>class</th>\n",
              "    </tr>\n",
              "  </thead>\n",
              "  <tbody>\n",
              "    <tr>\n",
              "      <th>count</th>\n",
              "      <td>569.000000</td>\n",
              "      <td>569.000000</td>\n",
              "      <td>569.000000</td>\n",
              "      <td>569.000000</td>\n",
              "      <td>569.000000</td>\n",
              "      <td>569.000000</td>\n",
              "      <td>569.000000</td>\n",
              "      <td>569.000000</td>\n",
              "      <td>569.000000</td>\n",
              "      <td>569.000000</td>\n",
              "      <td>...</td>\n",
              "      <td>569.000000</td>\n",
              "      <td>569.000000</td>\n",
              "      <td>569.000000</td>\n",
              "      <td>569.000000</td>\n",
              "      <td>569.000000</td>\n",
              "      <td>569.000000</td>\n",
              "      <td>569.000000</td>\n",
              "      <td>569.000000</td>\n",
              "      <td>569.000000</td>\n",
              "      <td>569.000000</td>\n",
              "    </tr>\n",
              "    <tr>\n",
              "      <th>mean</th>\n",
              "      <td>14.127292</td>\n",
              "      <td>19.289649</td>\n",
              "      <td>91.969033</td>\n",
              "      <td>654.889104</td>\n",
              "      <td>0.096360</td>\n",
              "      <td>0.104341</td>\n",
              "      <td>0.088799</td>\n",
              "      <td>0.048919</td>\n",
              "      <td>0.181162</td>\n",
              "      <td>0.062798</td>\n",
              "      <td>...</td>\n",
              "      <td>25.677223</td>\n",
              "      <td>107.261213</td>\n",
              "      <td>880.583128</td>\n",
              "      <td>0.132369</td>\n",
              "      <td>0.254265</td>\n",
              "      <td>0.272188</td>\n",
              "      <td>0.114606</td>\n",
              "      <td>0.290076</td>\n",
              "      <td>0.083946</td>\n",
              "      <td>0.627417</td>\n",
              "    </tr>\n",
              "    <tr>\n",
              "      <th>std</th>\n",
              "      <td>3.524049</td>\n",
              "      <td>4.301036</td>\n",
              "      <td>24.298981</td>\n",
              "      <td>351.914129</td>\n",
              "      <td>0.014064</td>\n",
              "      <td>0.052813</td>\n",
              "      <td>0.079720</td>\n",
              "      <td>0.038803</td>\n",
              "      <td>0.027414</td>\n",
              "      <td>0.007060</td>\n",
              "      <td>...</td>\n",
              "      <td>6.146258</td>\n",
              "      <td>33.602542</td>\n",
              "      <td>569.356993</td>\n",
              "      <td>0.022832</td>\n",
              "      <td>0.157336</td>\n",
              "      <td>0.208624</td>\n",
              "      <td>0.065732</td>\n",
              "      <td>0.061867</td>\n",
              "      <td>0.018061</td>\n",
              "      <td>0.483918</td>\n",
              "    </tr>\n",
              "    <tr>\n",
              "      <th>min</th>\n",
              "      <td>6.981000</td>\n",
              "      <td>9.710000</td>\n",
              "      <td>43.790000</td>\n",
              "      <td>143.500000</td>\n",
              "      <td>0.052630</td>\n",
              "      <td>0.019380</td>\n",
              "      <td>0.000000</td>\n",
              "      <td>0.000000</td>\n",
              "      <td>0.106000</td>\n",
              "      <td>0.049960</td>\n",
              "      <td>...</td>\n",
              "      <td>12.020000</td>\n",
              "      <td>50.410000</td>\n",
              "      <td>185.200000</td>\n",
              "      <td>0.071170</td>\n",
              "      <td>0.027290</td>\n",
              "      <td>0.000000</td>\n",
              "      <td>0.000000</td>\n",
              "      <td>0.156500</td>\n",
              "      <td>0.055040</td>\n",
              "      <td>0.000000</td>\n",
              "    </tr>\n",
              "    <tr>\n",
              "      <th>25%</th>\n",
              "      <td>11.700000</td>\n",
              "      <td>16.170000</td>\n",
              "      <td>75.170000</td>\n",
              "      <td>420.300000</td>\n",
              "      <td>0.086370</td>\n",
              "      <td>0.064920</td>\n",
              "      <td>0.029560</td>\n",
              "      <td>0.020310</td>\n",
              "      <td>0.161900</td>\n",
              "      <td>0.057700</td>\n",
              "      <td>...</td>\n",
              "      <td>21.080000</td>\n",
              "      <td>84.110000</td>\n",
              "      <td>515.300000</td>\n",
              "      <td>0.116600</td>\n",
              "      <td>0.147200</td>\n",
              "      <td>0.114500</td>\n",
              "      <td>0.064930</td>\n",
              "      <td>0.250400</td>\n",
              "      <td>0.071460</td>\n",
              "      <td>0.000000</td>\n",
              "    </tr>\n",
              "    <tr>\n",
              "      <th>50%</th>\n",
              "      <td>13.370000</td>\n",
              "      <td>18.840000</td>\n",
              "      <td>86.240000</td>\n",
              "      <td>551.100000</td>\n",
              "      <td>0.095870</td>\n",
              "      <td>0.092630</td>\n",
              "      <td>0.061540</td>\n",
              "      <td>0.033500</td>\n",
              "      <td>0.179200</td>\n",
              "      <td>0.061540</td>\n",
              "      <td>...</td>\n",
              "      <td>25.410000</td>\n",
              "      <td>97.660000</td>\n",
              "      <td>686.500000</td>\n",
              "      <td>0.131300</td>\n",
              "      <td>0.211900</td>\n",
              "      <td>0.226700</td>\n",
              "      <td>0.099930</td>\n",
              "      <td>0.282200</td>\n",
              "      <td>0.080040</td>\n",
              "      <td>1.000000</td>\n",
              "    </tr>\n",
              "    <tr>\n",
              "      <th>75%</th>\n",
              "      <td>15.780000</td>\n",
              "      <td>21.800000</td>\n",
              "      <td>104.100000</td>\n",
              "      <td>782.700000</td>\n",
              "      <td>0.105300</td>\n",
              "      <td>0.130400</td>\n",
              "      <td>0.130700</td>\n",
              "      <td>0.074000</td>\n",
              "      <td>0.195700</td>\n",
              "      <td>0.066120</td>\n",
              "      <td>...</td>\n",
              "      <td>29.720000</td>\n",
              "      <td>125.400000</td>\n",
              "      <td>1084.000000</td>\n",
              "      <td>0.146000</td>\n",
              "      <td>0.339100</td>\n",
              "      <td>0.382900</td>\n",
              "      <td>0.161400</td>\n",
              "      <td>0.317900</td>\n",
              "      <td>0.092080</td>\n",
              "      <td>1.000000</td>\n",
              "    </tr>\n",
              "    <tr>\n",
              "      <th>max</th>\n",
              "      <td>28.110000</td>\n",
              "      <td>39.280000</td>\n",
              "      <td>188.500000</td>\n",
              "      <td>2501.000000</td>\n",
              "      <td>0.163400</td>\n",
              "      <td>0.345400</td>\n",
              "      <td>0.426800</td>\n",
              "      <td>0.201200</td>\n",
              "      <td>0.304000</td>\n",
              "      <td>0.097440</td>\n",
              "      <td>...</td>\n",
              "      <td>49.540000</td>\n",
              "      <td>251.200000</td>\n",
              "      <td>4254.000000</td>\n",
              "      <td>0.222600</td>\n",
              "      <td>1.058000</td>\n",
              "      <td>1.252000</td>\n",
              "      <td>0.291000</td>\n",
              "      <td>0.663800</td>\n",
              "      <td>0.207500</td>\n",
              "      <td>1.000000</td>\n",
              "    </tr>\n",
              "  </tbody>\n",
              "</table>\n",
              "<p>8 rows × 31 columns</p>\n",
              "</div>"
            ],
            "text/plain": [
              "       mean radius  mean texture  mean perimeter    mean area  \\\n",
              "count   569.000000    569.000000      569.000000   569.000000   \n",
              "mean     14.127292     19.289649       91.969033   654.889104   \n",
              "std       3.524049      4.301036       24.298981   351.914129   \n",
              "min       6.981000      9.710000       43.790000   143.500000   \n",
              "25%      11.700000     16.170000       75.170000   420.300000   \n",
              "50%      13.370000     18.840000       86.240000   551.100000   \n",
              "75%      15.780000     21.800000      104.100000   782.700000   \n",
              "max      28.110000     39.280000      188.500000  2501.000000   \n",
              "\n",
              "       mean smoothness  mean compactness  mean concavity  mean concave points  \\\n",
              "count       569.000000        569.000000      569.000000           569.000000   \n",
              "mean          0.096360          0.104341        0.088799             0.048919   \n",
              "std           0.014064          0.052813        0.079720             0.038803   \n",
              "min           0.052630          0.019380        0.000000             0.000000   \n",
              "25%           0.086370          0.064920        0.029560             0.020310   \n",
              "50%           0.095870          0.092630        0.061540             0.033500   \n",
              "75%           0.105300          0.130400        0.130700             0.074000   \n",
              "max           0.163400          0.345400        0.426800             0.201200   \n",
              "\n",
              "       mean symmetry  mean fractal dimension     ...      worst texture  \\\n",
              "count     569.000000              569.000000     ...         569.000000   \n",
              "mean        0.181162                0.062798     ...          25.677223   \n",
              "std         0.027414                0.007060     ...           6.146258   \n",
              "min         0.106000                0.049960     ...          12.020000   \n",
              "25%         0.161900                0.057700     ...          21.080000   \n",
              "50%         0.179200                0.061540     ...          25.410000   \n",
              "75%         0.195700                0.066120     ...          29.720000   \n",
              "max         0.304000                0.097440     ...          49.540000   \n",
              "\n",
              "       worst perimeter   worst area  worst smoothness  worst compactness  \\\n",
              "count       569.000000   569.000000        569.000000         569.000000   \n",
              "mean        107.261213   880.583128          0.132369           0.254265   \n",
              "std          33.602542   569.356993          0.022832           0.157336   \n",
              "min          50.410000   185.200000          0.071170           0.027290   \n",
              "25%          84.110000   515.300000          0.116600           0.147200   \n",
              "50%          97.660000   686.500000          0.131300           0.211900   \n",
              "75%         125.400000  1084.000000          0.146000           0.339100   \n",
              "max         251.200000  4254.000000          0.222600           1.058000   \n",
              "\n",
              "       worst concavity  worst concave points  worst symmetry  \\\n",
              "count       569.000000            569.000000      569.000000   \n",
              "mean          0.272188              0.114606        0.290076   \n",
              "std           0.208624              0.065732        0.061867   \n",
              "min           0.000000              0.000000        0.156500   \n",
              "25%           0.114500              0.064930        0.250400   \n",
              "50%           0.226700              0.099930        0.282200   \n",
              "75%           0.382900              0.161400        0.317900   \n",
              "max           1.252000              0.291000        0.663800   \n",
              "\n",
              "       worst fractal dimension       class  \n",
              "count               569.000000  569.000000  \n",
              "mean                  0.083946    0.627417  \n",
              "std                   0.018061    0.483918  \n",
              "min                   0.055040    0.000000  \n",
              "25%                   0.071460    0.000000  \n",
              "50%                   0.080040    1.000000  \n",
              "75%                   0.092080    1.000000  \n",
              "max                   0.207500    1.000000  \n",
              "\n",
              "[8 rows x 31 columns]"
            ]
          },
          "metadata": {
            "tags": []
          },
          "execution_count": 16
        }
      ]
    },
    {
      "metadata": {
        "id": "W2Db4ZktU157",
        "colab_type": "code",
        "colab": {
          "base_uri": "https://localhost:8080/",
          "height": 68
        },
        "outputId": "b28327f1-3cab-48fc-9407-ea33ab51f00a"
      },
      "cell_type": "code",
      "source": [
        "print(data['class'].value_counts())"
      ],
      "execution_count": 17,
      "outputs": [
        {
          "output_type": "stream",
          "text": [
            "1    357\n",
            "0    212\n",
            "Name: class, dtype: int64\n"
          ],
          "name": "stdout"
        }
      ]
    },
    {
      "metadata": {
        "id": "018LJX63VGr4",
        "colab_type": "code",
        "colab": {
          "base_uri": "https://localhost:8080/",
          "height": 34
        },
        "outputId": "722b0099-504d-412e-f25f-15fc6fe93906"
      },
      "cell_type": "code",
      "source": [
        "print(breast_cancer.target_names)"
      ],
      "execution_count": 19,
      "outputs": [
        {
          "output_type": "stream",
          "text": [
            "['malignant' 'benign']\n"
          ],
          "name": "stdout"
        }
      ]
    },
    {
      "metadata": {
        "id": "mzoF2jVIVLOU",
        "colab_type": "code",
        "colab": {
          "base_uri": "https://localhost:8080/",
          "height": 225
        },
        "outputId": "7e658a81-f430-4af4-d7cb-0d6190eeec3f"
      },
      "cell_type": "code",
      "source": [
        "data.groupby('class').mean()"
      ],
      "execution_count": 21,
      "outputs": [
        {
          "output_type": "execute_result",
          "data": {
            "text/html": [
              "<div>\n",
              "<style scoped>\n",
              "    .dataframe tbody tr th:only-of-type {\n",
              "        vertical-align: middle;\n",
              "    }\n",
              "\n",
              "    .dataframe tbody tr th {\n",
              "        vertical-align: top;\n",
              "    }\n",
              "\n",
              "    .dataframe thead th {\n",
              "        text-align: right;\n",
              "    }\n",
              "</style>\n",
              "<table border=\"1\" class=\"dataframe\">\n",
              "  <thead>\n",
              "    <tr style=\"text-align: right;\">\n",
              "      <th></th>\n",
              "      <th>mean radius</th>\n",
              "      <th>mean texture</th>\n",
              "      <th>mean perimeter</th>\n",
              "      <th>mean area</th>\n",
              "      <th>mean smoothness</th>\n",
              "      <th>mean compactness</th>\n",
              "      <th>mean concavity</th>\n",
              "      <th>mean concave points</th>\n",
              "      <th>mean symmetry</th>\n",
              "      <th>mean fractal dimension</th>\n",
              "      <th>...</th>\n",
              "      <th>worst radius</th>\n",
              "      <th>worst texture</th>\n",
              "      <th>worst perimeter</th>\n",
              "      <th>worst area</th>\n",
              "      <th>worst smoothness</th>\n",
              "      <th>worst compactness</th>\n",
              "      <th>worst concavity</th>\n",
              "      <th>worst concave points</th>\n",
              "      <th>worst symmetry</th>\n",
              "      <th>worst fractal dimension</th>\n",
              "    </tr>\n",
              "    <tr>\n",
              "      <th>class</th>\n",
              "      <th></th>\n",
              "      <th></th>\n",
              "      <th></th>\n",
              "      <th></th>\n",
              "      <th></th>\n",
              "      <th></th>\n",
              "      <th></th>\n",
              "      <th></th>\n",
              "      <th></th>\n",
              "      <th></th>\n",
              "      <th></th>\n",
              "      <th></th>\n",
              "      <th></th>\n",
              "      <th></th>\n",
              "      <th></th>\n",
              "      <th></th>\n",
              "      <th></th>\n",
              "      <th></th>\n",
              "      <th></th>\n",
              "      <th></th>\n",
              "      <th></th>\n",
              "    </tr>\n",
              "  </thead>\n",
              "  <tbody>\n",
              "    <tr>\n",
              "      <th>0</th>\n",
              "      <td>17.462830</td>\n",
              "      <td>21.604906</td>\n",
              "      <td>115.365377</td>\n",
              "      <td>978.376415</td>\n",
              "      <td>0.102898</td>\n",
              "      <td>0.145188</td>\n",
              "      <td>0.160775</td>\n",
              "      <td>0.087990</td>\n",
              "      <td>0.192909</td>\n",
              "      <td>0.062680</td>\n",
              "      <td>...</td>\n",
              "      <td>21.134811</td>\n",
              "      <td>29.318208</td>\n",
              "      <td>141.370330</td>\n",
              "      <td>1422.286321</td>\n",
              "      <td>0.144845</td>\n",
              "      <td>0.374824</td>\n",
              "      <td>0.450606</td>\n",
              "      <td>0.182237</td>\n",
              "      <td>0.323468</td>\n",
              "      <td>0.091530</td>\n",
              "    </tr>\n",
              "    <tr>\n",
              "      <th>1</th>\n",
              "      <td>12.146524</td>\n",
              "      <td>17.914762</td>\n",
              "      <td>78.075406</td>\n",
              "      <td>462.790196</td>\n",
              "      <td>0.092478</td>\n",
              "      <td>0.080085</td>\n",
              "      <td>0.046058</td>\n",
              "      <td>0.025717</td>\n",
              "      <td>0.174186</td>\n",
              "      <td>0.062867</td>\n",
              "      <td>...</td>\n",
              "      <td>13.379801</td>\n",
              "      <td>23.515070</td>\n",
              "      <td>87.005938</td>\n",
              "      <td>558.899440</td>\n",
              "      <td>0.124959</td>\n",
              "      <td>0.182673</td>\n",
              "      <td>0.166238</td>\n",
              "      <td>0.074444</td>\n",
              "      <td>0.270246</td>\n",
              "      <td>0.079442</td>\n",
              "    </tr>\n",
              "  </tbody>\n",
              "</table>\n",
              "<p>2 rows × 30 columns</p>\n",
              "</div>"
            ],
            "text/plain": [
              "       mean radius  mean texture  mean perimeter   mean area  mean smoothness  \\\n",
              "class                                                                           \n",
              "0        17.462830     21.604906      115.365377  978.376415         0.102898   \n",
              "1        12.146524     17.914762       78.075406  462.790196         0.092478   \n",
              "\n",
              "       mean compactness  mean concavity  mean concave points  mean symmetry  \\\n",
              "class                                                                         \n",
              "0              0.145188        0.160775             0.087990       0.192909   \n",
              "1              0.080085        0.046058             0.025717       0.174186   \n",
              "\n",
              "       mean fractal dimension           ...             worst radius  \\\n",
              "class                                   ...                            \n",
              "0                    0.062680           ...                21.134811   \n",
              "1                    0.062867           ...                13.379801   \n",
              "\n",
              "       worst texture  worst perimeter   worst area  worst smoothness  \\\n",
              "class                                                                  \n",
              "0          29.318208       141.370330  1422.286321          0.144845   \n",
              "1          23.515070        87.005938   558.899440          0.124959   \n",
              "\n",
              "       worst compactness  worst concavity  worst concave points  \\\n",
              "class                                                             \n",
              "0               0.374824         0.450606              0.182237   \n",
              "1               0.182673         0.166238              0.074444   \n",
              "\n",
              "       worst symmetry  worst fractal dimension  \n",
              "class                                           \n",
              "0            0.323468                 0.091530  \n",
              "1            0.270246                 0.079442  \n",
              "\n",
              "[2 rows x 30 columns]"
            ]
          },
          "metadata": {
            "tags": []
          },
          "execution_count": 21
        }
      ]
    },
    {
      "metadata": {
        "id": "nrWdefM2Vs9E",
        "colab_type": "text"
      },
      "cell_type": "markdown",
      "source": [
        "# Train-Test-Split"
      ]
    },
    {
      "metadata": {
        "id": "msq96AcvVv_-",
        "colab_type": "code",
        "colab": {}
      },
      "cell_type": "code",
      "source": [
        "from sklearn.model_selection import train_test_split"
      ],
      "execution_count": 0,
      "outputs": []
    },
    {
      "metadata": {
        "id": "WfYbiZQnV0pv",
        "colab_type": "code",
        "colab": {}
      },
      "cell_type": "code",
      "source": [
        "X=data.drop('class',axis=1)"
      ],
      "execution_count": 0,
      "outputs": []
    },
    {
      "metadata": {
        "id": "WLEDpyOcV5yF",
        "colab_type": "code",
        "colab": {}
      },
      "cell_type": "code",
      "source": [
        "Y=data['class']"
      ],
      "execution_count": 0,
      "outputs": []
    },
    {
      "metadata": {
        "id": "ctkXkdoKV7PY",
        "colab_type": "code",
        "colab": {
          "base_uri": "https://localhost:8080/",
          "height": 34
        },
        "outputId": "0826ec57-69ae-4f13-c0fc-225eaf59bdf5"
      },
      "cell_type": "code",
      "source": [
        "type(X)"
      ],
      "execution_count": 25,
      "outputs": [
        {
          "output_type": "execute_result",
          "data": {
            "text/plain": [
              "pandas.core.frame.DataFrame"
            ]
          },
          "metadata": {
            "tags": []
          },
          "execution_count": 25
        }
      ]
    },
    {
      "metadata": {
        "id": "8_ghEkDLV8aV",
        "colab_type": "code",
        "colab": {}
      },
      "cell_type": "code",
      "source": [
        "X_train,X_test,y_train,y_test=train_test_split(X,Y,test_size=0.1)"
      ],
      "execution_count": 0,
      "outputs": []
    },
    {
      "metadata": {
        "id": "tCmxuzQ-WCOX",
        "colab_type": "code",
        "colab": {
          "base_uri": "https://localhost:8080/",
          "height": 34
        },
        "outputId": "1e4c80e9-419b-4d39-ae54-cc5a17ed902a"
      },
      "cell_type": "code",
      "source": [
        "print(X.shape,X_train.shape,X_test.shape)"
      ],
      "execution_count": 32,
      "outputs": [
        {
          "output_type": "stream",
          "text": [
            "(569, 30) (512, 30) (57, 30)\n"
          ],
          "name": "stdout"
        }
      ]
    },
    {
      "metadata": {
        "id": "HG59IGhGWID8",
        "colab_type": "code",
        "colab": {
          "base_uri": "https://localhost:8080/",
          "height": 34
        },
        "outputId": "7aefee20-46cc-4545-c0ea-5a8b7245d157"
      },
      "cell_type": "code",
      "source": [
        "print(Y.shape,y_train.shape,y_test.shape)"
      ],
      "execution_count": 33,
      "outputs": [
        {
          "output_type": "stream",
          "text": [
            "(569,) (512,) (57,)\n"
          ],
          "name": "stdout"
        }
      ]
    },
    {
      "metadata": {
        "id": "JIhlzS2SWSQd",
        "colab_type": "code",
        "colab": {
          "base_uri": "https://localhost:8080/",
          "height": 34
        },
        "outputId": "89b2442f-0c05-4809-d489-3c539fbb54b0"
      },
      "cell_type": "code",
      "source": [
        "print(Y.mean(),y_train.mean(),y_test.mean())"
      ],
      "execution_count": 34,
      "outputs": [
        {
          "output_type": "stream",
          "text": [
            "0.6274165202108963 0.63671875 0.543859649122807\n"
          ],
          "name": "stdout"
        }
      ]
    },
    {
      "metadata": {
        "id": "j9rHPO-9WwJO",
        "colab_type": "text"
      },
      "cell_type": "markdown",
      "source": [
        "Since we need test data that accurately represents Y so..."
      ]
    },
    {
      "metadata": {
        "id": "_YtUkAeyWtk0",
        "colab_type": "code",
        "colab": {}
      },
      "cell_type": "code",
      "source": [
        "X_train,X_test,y_train,y_test=train_test_split(X,Y,test_size=0.1,stratify=Y)"
      ],
      "execution_count": 0,
      "outputs": []
    },
    {
      "metadata": {
        "id": "OUwifDxfW5ts",
        "colab_type": "code",
        "colab": {
          "base_uri": "https://localhost:8080/",
          "height": 34
        },
        "outputId": "342d7fc8-0b5a-43a4-c1ba-f413772821d5"
      },
      "cell_type": "code",
      "source": [
        "print(Y.mean(),y_train.mean(),y_test.mean())"
      ],
      "execution_count": 36,
      "outputs": [
        {
          "output_type": "stream",
          "text": [
            "0.6274165202108963 0.626953125 0.631578947368421\n"
          ],
          "name": "stdout"
        }
      ]
    },
    {
      "metadata": {
        "id": "7t_jWnCrW7cS",
        "colab_type": "code",
        "colab": {
          "base_uri": "https://localhost:8080/",
          "height": 1564
        },
        "outputId": "78e93e3f-a034-49ad-b120-3ad2319122fc"
      },
      "cell_type": "code",
      "source": [
        "print(X.mean(),X_train.mean(),X_test.mean())"
      ],
      "execution_count": 37,
      "outputs": [
        {
          "output_type": "stream",
          "text": [
            "mean radius                 14.127292\n",
            "mean texture                19.289649\n",
            "mean perimeter              91.969033\n",
            "mean area                  654.889104\n",
            "mean smoothness              0.096360\n",
            "mean compactness             0.104341\n",
            "mean concavity               0.088799\n",
            "mean concave points          0.048919\n",
            "mean symmetry                0.181162\n",
            "mean fractal dimension       0.062798\n",
            "radius error                 0.405172\n",
            "texture error                1.216853\n",
            "perimeter error              2.866059\n",
            "area error                  40.337079\n",
            "smoothness error             0.007041\n",
            "compactness error            0.025478\n",
            "concavity error              0.031894\n",
            "concave points error         0.011796\n",
            "symmetry error               0.020542\n",
            "fractal dimension error      0.003795\n",
            "worst radius                16.269190\n",
            "worst texture               25.677223\n",
            "worst perimeter            107.261213\n",
            "worst area                 880.583128\n",
            "worst smoothness             0.132369\n",
            "worst compactness            0.254265\n",
            "worst concavity              0.272188\n",
            "worst concave points         0.114606\n",
            "worst symmetry               0.290076\n",
            "worst fractal dimension      0.083946\n",
            "dtype: float64 mean radius                 14.107061\n",
            "mean texture                19.279297\n",
            "mean perimeter              91.798047\n",
            "mean area                  653.433594\n",
            "mean smoothness              0.096271\n",
            "mean compactness             0.103318\n",
            "mean concavity               0.087843\n",
            "mean concave points          0.048404\n",
            "mean symmetry                0.181376\n",
            "mean fractal dimension       0.062752\n",
            "radius error                 0.402314\n",
            "texture error                1.220287\n",
            "perimeter error              2.835646\n",
            "area error                  39.704146\n",
            "smoothness error             0.007034\n",
            "compactness error            0.025321\n",
            "concavity error              0.031787\n",
            "concave points error         0.011761\n",
            "symmetry error               0.020600\n",
            "fractal dimension error      0.003782\n",
            "worst radius                16.260348\n",
            "worst texture               25.687988\n",
            "worst perimeter            107.115254\n",
            "worst area                 880.958984\n",
            "worst smoothness             0.132373\n",
            "worst compactness            0.251749\n",
            "worst concavity              0.270429\n",
            "worst concave points         0.113718\n",
            "worst symmetry               0.290942\n",
            "worst fractal dimension      0.083772\n",
            "dtype: float64 mean radius                 14.309018\n",
            "mean texture                19.382632\n",
            "mean perimeter              93.504912\n",
            "mean area                  667.963158\n",
            "mean smoothness              0.097166\n",
            "mean compactness             0.113532\n",
            "mean concavity               0.097389\n",
            "mean concave points          0.053545\n",
            "mean symmetry                0.179240\n",
            "mean fractal dimension       0.063207\n",
            "radius error                 0.430846\n",
            "texture error                1.186016\n",
            "perimeter error              3.139246\n",
            "area error                  46.022368\n",
            "smoothness error             0.007099\n",
            "compactness error            0.026885\n",
            "concavity error              0.032850\n",
            "concave points error         0.012110\n",
            "symmetry error               0.020026\n",
            "fractal dimension error      0.003909\n",
            "worst radius                16.348614\n",
            "worst texture               25.580526\n",
            "worst perimeter            108.572281\n",
            "worst area                 877.207018\n",
            "worst smoothness             0.132330\n",
            "worst compactness            0.276863\n",
            "worst concavity              0.287993\n",
            "worst concave points         0.122581\n",
            "worst symmetry               0.282293\n",
            "worst fractal dimension      0.085511\n",
            "dtype: float64\n"
          ],
          "name": "stdout"
        }
      ]
    },
    {
      "metadata": {
        "id": "F3X0XasiXJfV",
        "colab_type": "text"
      },
      "cell_type": "markdown",
      "source": [
        "For reproducibility reasons-"
      ]
    },
    {
      "metadata": {
        "id": "7oK0Bj0fXCia",
        "colab_type": "code",
        "colab": {}
      },
      "cell_type": "code",
      "source": [
        "X_train,X_test,y_train,y_test=train_test_split(X,Y,test_size=0.1,stratify=Y,random_state=300)"
      ],
      "execution_count": 0,
      "outputs": []
    },
    {
      "metadata": {
        "id": "aRooWIN_XVXt",
        "colab_type": "code",
        "colab": {}
      },
      "cell_type": "code",
      "source": [
        ""
      ],
      "execution_count": 0,
      "outputs": []
    },
    {
      "metadata": {
        "id": "zVrCjdmnXaXm",
        "colab_type": "text"
      },
      "cell_type": "markdown",
      "source": [
        "# BINARIZATION"
      ]
    },
    {
      "metadata": {
        "id": "dv6Kz6lYXdqr",
        "colab_type": "code",
        "colab": {}
      },
      "cell_type": "code",
      "source": [
        "import matplotlib.pyplot as plt"
      ],
      "execution_count": 0,
      "outputs": []
    },
    {
      "metadata": {
        "id": "tlNwBMVAX8M_",
        "colab_type": "text"
      },
      "cell_type": "markdown",
      "source": [
        "Plot diff colors for different rows"
      ]
    },
    {
      "metadata": {
        "id": "VHisji0rXl75",
        "colab_type": "code",
        "colab": {
          "base_uri": "https://localhost:8080/",
          "height": 347
        },
        "outputId": "6a61c2ff-bb0a-46fd-f9b7-521160078463"
      },
      "cell_type": "code",
      "source": [
        "plt.plot(X_train,'*')\n",
        "plt.show()"
      ],
      "execution_count": 58,
      "outputs": [
        {
          "output_type": "display_data",
          "data": {
            "image/png": "[encoded data removed]",
            "text/plain": [
              "<Figure size 576x396 with 1 Axes>"
            ]
          },
          "metadata": {
            "tags": []
          }
        }
      ]
    },
    {
      "metadata": {
        "id": "miCS36b3YBbo",
        "colab_type": "text"
      },
      "cell_type": "markdown",
      "source": [
        "Plot diff colors for different columns(features)\n",
        "and xticks to rotate names on x axis"
      ]
    },
    {
      "metadata": {
        "id": "fKWrJiiHX3NN",
        "colab_type": "code",
        "colab": {
          "base_uri": "https://localhost:8080/",
          "height": 440
        },
        "outputId": "248334e0-8322-43f4-d2ce-8b4692f07617"
      },
      "cell_type": "code",
      "source": [
        "plt.plot(X_train.T,'*')\n",
        "plt.xticks(rotation='vertical')\n",
        "plt.show()"
      ],
      "execution_count": 59,
      "outputs": [
        {
          "output_type": "display_data",
          "data": {
            "image/png": "[encoded data removed]",
            "text/plain": [
              "<Figure size 576x396 with 1 Axes>"
            ]
          },
          "metadata": {
            "tags": []
          }
        }
      ]
    },
    {
      "metadata": {
        "id": "YfMIxnSBaCG0",
        "colab_type": "text"
      },
      "cell_type": "markdown",
      "source": [
        "Binarize for a single column"
      ]
    },
    {
      "metadata": {
        "id": "y2bsbGT6YXsa",
        "colab_type": "code",
        "colab": {}
      },
      "cell_type": "code",
      "source": [
        "x_binarised_3train=X_train['mean area'].map(lambda x:0 if x<1000 else 1)"
      ],
      "execution_count": 0,
      "outputs": []
    },
    {
      "metadata": {
        "id": "iFDREw5qYwRL",
        "colab_type": "code",
        "colab": {
          "base_uri": "https://localhost:8080/",
          "height": 347
        },
        "outputId": "caa7b98a-fd11-4760-9318-8687f1123d50"
      },
      "cell_type": "code",
      "source": [
        "plt.plot(x_binarised_3train,'*')\n",
        "plt.show()"
      ],
      "execution_count": 68,
      "outputs": [
        {
          "output_type": "display_data",
          "data": {
            "image/png": "[encoded data removed]",
            "text/plain": [
              "<Figure size 576x396 with 1 Axes>"
            ]
          },
          "metadata": {
            "tags": []
          }
        }
      ]
    },
    {
      "metadata": {
        "id": "60GHgNtEZETt",
        "colab_type": "text"
      },
      "cell_type": "markdown",
      "source": [
        "Binarize all columns -\n",
        "apply function cut to each column simultaneously\n",
        "Parameters of cut-bins,labels"
      ]
    },
    {
      "metadata": {
        "id": "RXjn0BYaY2ox",
        "colab_type": "code",
        "colab": {}
      },
      "cell_type": "code",
      "source": [
        "x_binarised_train=X_train.apply(pd.cut,bins=2,labels=(1,0))"
      ],
      "execution_count": 0,
      "outputs": []
    },
    {
      "metadata": {
        "id": "xpz09aVSZOUe",
        "colab_type": "code",
        "colab": {
          "base_uri": "https://localhost:8080/",
          "height": 440
        },
        "outputId": "c3da0ec9-0312-43bb-f394-9236875483da"
      },
      "cell_type": "code",
      "source": [
        "plt.plot(x_binarised_train.T,'*')\n",
        "plt.xticks(rotation='vertical')\n",
        "plt.show()\n"
      ],
      "execution_count": 110,
      "outputs": [
        {
          "output_type": "display_data",
          "data": {
            "image/png": "[encoded data removed]",
            "text/plain": [
              "<Figure size 576x396 with 1 Axes>"
            ]
          },
          "metadata": {
            "tags": []
          }
        }
      ]
    },
    {
      "metadata": {
        "id": "dIJC2ffgZQhQ",
        "colab_type": "code",
        "colab": {}
      },
      "cell_type": "code",
      "source": [
        "x_binarised_test=X_test.apply(pd.cut,bins=2,labels=(1,0))"
      ],
      "execution_count": 0,
      "outputs": []
    },
    {
      "metadata": {
        "id": "TuNGoLidZ0Md",
        "colab_type": "code",
        "colab": {
          "base_uri": "https://localhost:8080/",
          "height": 440
        },
        "outputId": "1da3205e-d40e-403f-ef4b-2d4beb0327c5"
      },
      "cell_type": "code",
      "source": [
        "plt.plot(x_binarised_test.T,'*')\n",
        "plt.xticks(rotation='vertical')\n",
        "plt.show()"
      ],
      "execution_count": 112,
      "outputs": [
        {
          "output_type": "display_data",
          "data": {
            "image/png": "[encoded data removed]",
            "text/plain": [
              "<Figure size 576x396 with 1 Axes>"
            ]
          },
          "metadata": {
            "tags": []
          }
        }
      ]
    },
    {
      "metadata": {
        "id": "lebIG0ZVdiiv",
        "colab_type": "text"
      },
      "cell_type": "markdown",
      "source": [
        "To convert df to arrays-"
      ]
    },
    {
      "metadata": {
        "id": "g6UsyDk-Z24s",
        "colab_type": "code",
        "colab": {}
      },
      "cell_type": "code",
      "source": [
        "x_binarised_train=x_binarised_train.values\n",
        "x_binarised_test=x_binarised_test.values\n"
      ],
      "execution_count": 0,
      "outputs": []
    },
    {
      "metadata": {
        "id": "svpIMpbybDFF",
        "colab_type": "text"
      },
      "cell_type": "markdown",
      "source": [
        "# MP Neuron Model Inference and Search"
      ]
    },
    {
      "metadata": {
        "id": "_3UBgHddbFkS",
        "colab_type": "code",
        "colab": {
          "base_uri": "https://localhost:8080/",
          "height": 68
        },
        "outputId": "888d5c29-1ea3-4c10-cc17-9c731dea2295"
      },
      "cell_type": "code",
      "source": [
        "from random import randint\n",
        "\n",
        "b=3\n",
        "\n",
        "i=randint(0,x_binarised_train.shape[0])\n",
        "\n",
        "print('For row',i)\n",
        "\n",
        "if (np.sum(x_binarised_train[100, :]) >= b):\n",
        "  print('MP Neuron inference is malignant')\n",
        "else:\n",
        "  print('Benign')\n",
        "  \n",
        "  \n",
        "if(y_train[i]==1):\n",
        "  print('Ground_truth is malignant')\n",
        "else:\n",
        "  print('Ground truth is benign')"
      ],
      "execution_count": 118,
      "outputs": [
        {
          "output_type": "stream",
          "text": [
            "For row 147\n",
            "MP Neuron inference is malignant\n",
            "Ground_truth is malignant\n"
          ],
          "name": "stdout"
        }
      ]
    },
    {
      "metadata": {
        "id": "6pnnq0L5btUT",
        "colab_type": "code",
        "colab": {
          "base_uri": "https://localhost:8080/",
          "height": 544
        },
        "outputId": "1b4fb382-a990-4186-fa7d-f5d847e0bc26"
      },
      "cell_type": "code",
      "source": [
        "for b in range(x_binarised_train.shape[1]+1):\n",
        "  y_pred_train=[]\n",
        "  accurate_rows=0\n",
        "\n",
        "  for x,y in zip(x_binarised_train,y_train):\n",
        "    y_pred=(np.sum(x)>=b)\n",
        "    y_pred_train.append(y_pred)\n",
        "    accurate_rows+=(y==y_pred)\n",
        "  \n",
        "  print(b,accurate_rows,accurate_rows/x_binarised_train.shape[0])\n",
        " "
      ],
      "execution_count": 218,
      "outputs": [
        {
          "output_type": "stream",
          "text": [
            "0 321 0.626953125\n",
            "1 321 0.626953125\n",
            "2 321 0.626953125\n",
            "3 321 0.626953125\n",
            "4 321 0.626953125\n",
            "5 321 0.626953125\n",
            "6 321 0.626953125\n",
            "7 321 0.626953125\n",
            "8 321 0.626953125\n",
            "9 321 0.626953125\n",
            "10 321 0.626953125\n",
            "11 321 0.626953125\n",
            "12 321 0.626953125\n",
            "13 322 0.62890625\n",
            "14 325 0.634765625\n",
            "15 328 0.640625\n",
            "16 330 0.64453125\n",
            "17 335 0.654296875\n",
            "18 338 0.66015625\n",
            "19 342 0.66796875\n",
            "20 343 0.669921875\n",
            "21 352 0.6875\n",
            "22 363 0.708984375\n",
            "23 379 0.740234375\n",
            "24 397 0.775390625\n",
            "25 415 0.810546875\n",
            "26 423 0.826171875\n",
            "27 437 0.853515625\n",
            "28 437 0.853515625\n",
            "29 422 0.82421875\n",
            "30 380 0.7421875\n"
          ],
          "name": "stdout"
        }
      ]
    },
    {
      "metadata": {
        "id": "c9yIlCoLgtj1",
        "colab_type": "text"
      },
      "cell_type": "markdown",
      "source": [
        "at b=0,case of always predicting 1 (malignant)\n",
        "so equals mean(class) in data\n",
        "We need to improve on this value...but as b increases ...accuracy going down"
      ]
    },
    {
      "metadata": {
        "id": "l4ujoaJuhJWi",
        "colab_type": "text"
      },
      "cell_type": "markdown",
      "source": [
        "Since opposite is happening, we check data and see that feature values are more in case of benign (0).....so binarization is repeated with flipped labels\n",
        "Now its fine"
      ]
    },
    {
      "metadata": {
        "id": "Ak7JPTtviAOG",
        "colab_type": "code",
        "colab": {}
      },
      "cell_type": "code",
      "source": [
        "from sklearn.metrics import accuracy_score"
      ],
      "execution_count": 0,
      "outputs": []
    },
    {
      "metadata": {
        "id": "a3sxpliChsrU",
        "colab_type": "text"
      },
      "cell_type": "markdown",
      "source": [
        "Predictions-"
      ]
    },
    {
      "metadata": {
        "id": "fBGXhLQ5e0g6",
        "colab_type": "code",
        "colab": {
          "base_uri": "https://localhost:8080/",
          "height": 34
        },
        "outputId": "ffb85e14-554d-4e06-e406-988ae198723e"
      },
      "cell_type": "code",
      "source": [
        "b=28\n",
        "y_pred_test=[]\n",
        "\n",
        "for x in x_binarised_test:\n",
        "  y_pred=(np.sum(x)>=b)\n",
        "  y_pred_test.append(y_pred)\n",
        "\n",
        "accuracy =accuracy_score(y_pred_test,y_test)\n",
        "\n",
        "print(b,accuracy)"
      ],
      "execution_count": 114,
      "outputs": [
        {
          "output_type": "stream",
          "text": [
            "28 0.6842105263157895\n"
          ],
          "name": "stdout"
        }
      ]
    },
    {
      "metadata": {
        "id": "o1TCqIiPiKz3",
        "colab_type": "code",
        "colab": {}
      },
      "cell_type": "code",
      "source": [
        ""
      ],
      "execution_count": 0,
      "outputs": []
    },
    {
      "metadata": {
        "id": "5xkKW5fmjzmK",
        "colab_type": "text"
      },
      "cell_type": "markdown",
      "source": [
        "#MP Neuron Class"
      ]
    },
    {
      "metadata": {
        "id": "Jx5jxxAOj2zm",
        "colab_type": "code",
        "colab": {}
      },
      "cell_type": "code",
      "source": [
        "class MPNeuron:\n",
        "  \n",
        "  def __int__(self):\n",
        "    self.b=None\n",
        "  \n",
        "  def model(self,x):\n",
        "    return(sum(x)>=self.b)\n",
        "  \n",
        "  def predict(self,X):\n",
        "    y=[]\n",
        "    for x in X:\n",
        "      result=self.model(x)\n",
        "      y.append(result)\n",
        "    return np.array(y)\n",
        "  \n",
        "  def fit(self,X,y):\n",
        "    accuracy={}\n",
        "    \n",
        "    for b in range(X.shape[1]+1):\n",
        "      self.b=b\n",
        "      y_pred=self.predict(X)\n",
        "      accuracy[b]=accuracy_score(y_pred,y)\n",
        "    \n",
        "    best_b=max(accuracy,key=accuracy.get)\n",
        "    self.b=best_b\n",
        "    \n",
        "    print(\"optimal value of b is\",best_b)\n",
        "    print('highest accuracy is ',accuracy[best_b])\n",
        "    "
      ],
      "execution_count": 0,
      "outputs": []
    },
    {
      "metadata": {
        "id": "jDk3DEdSk5Zt",
        "colab_type": "code",
        "colab": {
          "base_uri": "https://localhost:8080/",
          "height": 51
        },
        "outputId": "0c61a128-d3f3-41f1-8e8e-e307a9ba9f6b"
      },
      "cell_type": "code",
      "source": [
        "mp_neuron=MPNeuron()\n",
        "mp_neuron.fit(x_binarised_train,y_train)"
      ],
      "execution_count": 122,
      "outputs": [
        {
          "output_type": "stream",
          "text": [
            "optimal value of b is 27\n",
            "highest accuracy is  0.853515625\n"
          ],
          "name": "stdout"
        }
      ]
    },
    {
      "metadata": {
        "id": "hmyYIWA0lEYh",
        "colab_type": "code",
        "colab": {}
      },
      "cell_type": "code",
      "source": [
        "y_test_pred=mp_neuron.predict(x_binarised_test)\n",
        "accuracy_test=accuracy_score(y_test_pred,y_test)"
      ],
      "execution_count": 0,
      "outputs": []
    },
    {
      "metadata": {
        "id": "HUoFfhqAlVZU",
        "colab_type": "code",
        "colab": {
          "base_uri": "https://localhost:8080/",
          "height": 34
        },
        "outputId": "1f9abfdd-ba07-4814-eb5a-0389a0c67358"
      },
      "cell_type": "code",
      "source": [
        "print(accuracy_test)"
      ],
      "execution_count": 125,
      "outputs": [
        {
          "output_type": "stream",
          "text": [
            "0.7894736842105263\n"
          ],
          "name": "stdout"
        }
      ]
    },
    {
      "metadata": {
        "id": "9Qvy2FqVlZI-",
        "colab_type": "code",
        "colab": {}
      },
      "cell_type": "code",
      "source": [
        ""
      ],
      "execution_count": 0,
      "outputs": []
    },
    {
      "metadata": {
        "id": "yDzX2Zc0nnXY",
        "colab_type": "text"
      },
      "cell_type": "markdown",
      "source": [
        "# Perceptron"
      ]
    },
    {
      "metadata": {
        "id": "u4h5aBz7n4Bg",
        "colab_type": "text"
      },
      "cell_type": "markdown",
      "source": [
        "$y=1, \\mbox{if}\\sum_i w_i x_i >=b$\n",
        "\n",
        "$y=0,\\mbox{otherwise}$"
      ]
    },
    {
      "metadata": {
        "id": "b04ww-eunrwa",
        "colab_type": "code",
        "colab": {}
      },
      "cell_type": "code",
      "source": [
        "class Perceptron:\n",
        "  \n",
        "  def __init__(self):\n",
        "    self.w=None\n",
        "    self.b=None\n",
        "    \n",
        "  def model(self,x):\n",
        "    return 1 if (np.dot(self.w,x)>=self.b) else 0\n",
        "  \n",
        "  def predict(self,X):\n",
        "    y=[]\n",
        "    for x in X:\n",
        "      result=self.model(x)\n",
        "      y.append(result)\n",
        "    return np.array(y)\n",
        "    \n",
        "  def fit(self,X,Y,epochs=1,lr=1):\n",
        "    \n",
        "    self.w=np.ones(X.shape[1])\n",
        "    self.b=0\n",
        "    \n",
        "    accuracy={}\n",
        "    max_accuracy=0\n",
        "    \n",
        "    wt_matrix=[]\n",
        "    \n",
        "    for i in range(epochs):\n",
        "      for x,y in zip(X,Y):\n",
        "        y_pred=self.model(x)\n",
        "        if y==1 and y_pred ==0:\n",
        "          self.w=self.w +lr*x\n",
        "          self.b=self.b +1\n",
        "        elif y==0 and y_pred==1:\n",
        "          self.w=self.w-lr*x\n",
        "          self.b=self.b-1\n",
        "      \n",
        "      wt_matrix.append(self.w)\n",
        "          \n",
        "      accuracy[i]=accuracy_score(self.predict(X),Y)\n",
        "      if (accuracy[i]> max_accuracy):\n",
        "        max_accuracy=accuracy[i]\n",
        "        checkptw=self.w\n",
        "        checkptb=self.b\n",
        "        \n",
        "    self.w=checkptw      #checkpointing\n",
        "    self.b=checkptb      #to store all increments in accuracy\n",
        "    print(max_accuracy)  #so in end,we get yet largest accuracy\n",
        "      \n",
        "    \n",
        "    \n",
        "    plt.plot(accuracy.values())\n",
        "    plt.ylim([0,1])\n",
        "    plt.show()\n",
        "    return np.array(wt_matrix)"
      ],
      "execution_count": 0,
      "outputs": []
    },
    {
      "metadata": {
        "id": "VUmZSHqTp-Xi",
        "colab_type": "code",
        "colab": {}
      },
      "cell_type": "code",
      "source": [
        "percep=Perceptron()"
      ],
      "execution_count": 0,
      "outputs": []
    },
    {
      "metadata": {
        "id": "lhU68EYwqDLo",
        "colab_type": "code",
        "colab": {}
      },
      "cell_type": "code",
      "source": [
        "X_train=X_train.values\n",
        "X_test=X_test.values"
      ],
      "execution_count": 0,
      "outputs": []
    },
    {
      "metadata": {
        "id": "QyHJeV7dqNA2",
        "colab_type": "code",
        "colab": {
          "base_uri": "https://localhost:8080/",
          "height": 286
        },
        "outputId": "41b1beb4-fbb1-441e-9f86-679e199729b8"
      },
      "cell_type": "code",
      "source": [
        "wt_matrix=percep.fit(X_train,y_train,100,lr=0.01)"
      ],
      "execution_count": 196,
      "outputs": [
        {
          "output_type": "stream",
          "text": [
            "0.927734375\n"
          ],
          "name": "stdout"
        },
        {
          "output_type": "display_data",
          "data": {
            "image/png": "[encoded data removed]",
            "text/plain": [
              "<Figure size 432x288 with 1 Axes>"
            ]
          },
          "metadata": {
            "tags": []
          }
        }
      ]
    },
    {
      "metadata": {
        "id": "6lG5uoe-qU_2",
        "colab_type": "code",
        "colab": {
          "base_uri": "https://localhost:8080/",
          "height": 34
        },
        "outputId": "8be31bae-602d-4857-fe16-c5d59dc7ef03"
      },
      "cell_type": "code",
      "source": [
        "y_pred_train=percep.predict(X_train)\n",
        "print(accuracy_score(y_pred_train,y_train))"
      ],
      "execution_count": 186,
      "outputs": [
        {
          "output_type": "stream",
          "text": [
            "0.9375\n"
          ],
          "name": "stdout"
        }
      ]
    },
    {
      "metadata": {
        "id": "pg1n5xa5qixo",
        "colab_type": "code",
        "colab": {
          "base_uri": "https://localhost:8080/",
          "height": 34
        },
        "outputId": "fd650261-161c-484d-a284-748d87fcdb48"
      },
      "cell_type": "code",
      "source": [
        "y_pred_test=percep.predict(X_test)\n",
        "print(accuracy_score(y_pred_test,y_test))"
      ],
      "execution_count": 187,
      "outputs": [
        {
          "output_type": "stream",
          "text": [
            "0.9473684210526315\n"
          ],
          "name": "stdout"
        }
      ]
    },
    {
      "metadata": {
        "id": "n-g-0rHLqrDk",
        "colab_type": "code",
        "colab": {
          "base_uri": "https://localhost:8080/",
          "height": 347
        },
        "outputId": "0e2ed0ef-6abd-4270-f6d3-24689cebbd0e"
      },
      "cell_type": "code",
      "source": [
        "plt.plot(percep.w)\n",
        "plt.show()"
      ],
      "execution_count": 188,
      "outputs": [
        {
          "output_type": "display_data",
          "data": {
            "image/png": "[encoded data removed]",
            "text/plain": [
              "<Figure size 576x396 with 1 Axes>"
            ]
          },
          "metadata": {
            "tags": []
          }
        }
      ]
    },
    {
      "metadata": {
        "id": "EnY-E6w1yPrD",
        "colab_type": "code",
        "colab": {
          "base_uri": "https://localhost:8080/",
          "height": 265
        },
        "outputId": "166d63ae-147a-426e-8c6a-e127994cf403"
      },
      "cell_type": "code",
      "source": [
        "plt.plot(wt_matrix[-1,:])\n",
        "plt.show()"
      ],
      "execution_count": 197,
      "outputs": [
        {
          "output_type": "display_data",
          "data": {
            "image/png": "[encoded data removed]",
            "text/plain": [
              "<Figure size 432x288 with 1 Axes>"
            ]
          },
          "metadata": {
            "tags": []
          }
        }
      ]
    },
    {
      "metadata": {
        "id": "vBeoU93TtZgW",
        "colab_type": "text"
      },
      "cell_type": "markdown",
      "source": [
        "# Animation"
      ]
    },
    {
      "metadata": {
        "id": "UlQSq3ZKxTZ-",
        "colab_type": "code",
        "colab": {
          "base_uri": "https://localhost:8080/",
          "height": 265
        },
        "outputId": "d65ffad1-0d5a-4a25-cd9e-62c92e69ef10"
      },
      "cell_type": "code",
      "source": [
        "%matplotlib inline\n",
        "from matplotlib import animation,rc\n",
        "from IPython.display import HTML\n",
        "\n",
        "fig,ax=plt.subplots()\n",
        "ax.set_xlim((0,wt_matrix.shape[1]))\n",
        "ax.set_ylim((-250,350))\n",
        "line, =ax.plot([],[],lw=2)"
      ],
      "execution_count": 232,
      "outputs": [
        {
          "output_type": "display_data",
          "data": {
            "image/png": "[encoded data removed]",
            "text/plain": [
              "<Figure size 432x288 with 1 Axes>"
            ]
          },
          "metadata": {
            "tags": []
          }
        }
      ]
    },
    {
      "metadata": {
        "id": "55Zr2JbKxVsO",
        "colab_type": "code",
        "colab": {}
      },
      "cell_type": "code",
      "source": [
        "def animate(i):\n",
        "  x=list(range(wt_matrix.shape[1]))\n",
        "  y=wt_matrix[i,:]\n",
        "  line.set_data(x,y)\n",
        "  return(line,)\n",
        "\n"
      ],
      "execution_count": 0,
      "outputs": []
    },
    {
      "metadata": {
        "id": "8DGAOAlczSrg",
        "colab_type": "code",
        "colab": {}
      },
      "cell_type": "code",
      "source": [
        "anim=animation.FuncAnimation(fig,animate,frames=100,interval=40,blit=True)"
      ],
      "execution_count": 0,
      "outputs": []
    },
    {
      "metadata": {
        "id": "ixtNaRNDzVip",
        "colab_type": "code",
        "colab": {
          "base_uri": "https://localhost:8080/",
          "height": 309
        },
        "outputId": "a8e623af-e26e-46a4-fc9b-913eae90ea74"
      },
      "cell_type": "code",
      "source": [
        "HTML(anim.to_html5_video())"
      ],
      "execution_count": 238,
      "outputs": [
        {
          "output_type": "execute_result",
          "data": {
            "text/html": [
              "<video width=\"432\" height=\"288\" controls autoplay loop>\n",
              "  <source type=\"video/mp4\" src=\"data:video/mp4;base64,AAAAHGZ0eXBNNFYgAAACAGlzb21pc28yYXZjMQAAAAhmcmVlAABFC21kYXQAAAKuBgX//6rcRem9\n",
              "5tlIt5Ys2CDZI+7veDI2NCAtIGNvcmUgMTUyIHIyODU0IGU5YTU5MDMgLSBILjI2NC9NUEVHLTQg\n",
              "QVZDIGNvZGVjIC0gQ29weWxlZnQgMjAwMy0yMDE3IC0gaHR0cDovL3d3dy52aWRlb2xhbi5vcmcv\n",
              "eDI2NC5odG1sIC0gb3B0aW9uczogY2FiYWM9MSByZWY9MyBkZWJsb2NrPTE6MDowIGFuYWx5c2U9\n",
              "MHgzOjB4MTEzIG1lPWhleCBzdWJtZT03IHBzeT0xIHBzeV9yZD0xLjAwOjAuMDAgbWl4ZWRfcmVm\n",
              "PTEgbWVfcmFuZ2U9MTYgY2hyb21hX21lPTEgdHJlbGxpcz0xIDh4OGRjdD0xIGNxbT0wIGRlYWR6\n",
              "b25lPTIxLDExIGZhc3RfcHNraXA9MSBjaHJvbWFfcXBfb2Zmc2V0PS0yIHRocmVhZHM9MyBsb29r\n",
              "YWhlYWRfdGhyZWFkcz0xIHNsaWNlZF90aHJlYWRzPTAgbnI9MCBkZWNpbWF0ZT0xIGludGVybGFj\n",
              "ZWQ9MCBibHVyYXlfY29tcGF0PTAgY29uc3RyYWluZWRfaW50cmE9MCBiZnJhbWVzPTMgYl9weXJh\n",
              "bWlkPTIgYl9hZGFwdD0xIGJfYmlhcz0wIGRpcmVjdD0xIHdlaWdodGI9MSBvcGVuX2dvcD0wIHdl\n",
              "aWdodHA9MiBrZXlpbnQ9MjUwIGtleWludF9taW49MjUgc2NlbmVjdXQ9NDAgaW50cmFfcmVmcmVz\n",
              "aD0wIHJjX2xvb2thaGVhZD00MCByYz1jcmYgbWJ0cmVlPTEgY3JmPTIzLjAgcWNvbXA9MC42MCBx\n",
              "cG1pbj0wIHFwbWF4PTY5IHFwc3RlcD00IGlwX3JhdGlvPTEuNDAgYXE9MToxLjAwAIAAAAthZYiE\n",
              "ADP//vbsvgU1/Z/QlxEsxdpKcD4qpICAdzTAAAADAAB4HShe6DhKq9DAABvIw9UL/C8RFasU+Ly/\n",
              "WblFCbjole7xf0nbjeLus+eBtgpXqgspf0mR9Atizn91UpPyZvn83zwYis8HcRCAb5pa+3I124Z8\n",
              "ueYCX97V8IWst8QRA+NcrDXzcMPH3cRXyx6jkXbpj5wNXRbrnn3Fo6YvuX2NE7Vo6iWgxK4IV6Ek\n",
              "zYUArjOatbsYzRoOrFtPH50B7xc6DY+oJdFJ+u1j1WphI3dAvEQQCMLAc2Qy+p85aay30MJxRIJs\n",
              "iqn5ABKHWpzHOPpwfIhlGDs8DczSX3W6QjOivpcdcpgV/eudvt16VAfAIta/23atAAlEQAJT8hC+\n",
              "R4HJhwdkRuv3ZTElYwNzeOP4OQPxxbo8PAAZ3Old9Vp4m31TeEbW18HbLTUL2dgksfqQW917uWuJ\n",
              "rqaVwIsroK4uWxXpsUaVVKjtRLkp5VzeWFOE95/Kr4PSLrHHd3IowuRAzLQxnean5qcqndnggNBZ\n",
              "wSAAAsRCsRSUMx+J+OIGuZ+w4AaBmquGx6N5p1h/9tHnNFtcvwrtIrKakqv8jt3yW1coZx563qk/\n",
              "U0VyOVGwWSHGLrtVH9sFPBYD500Lj3LMKmQymqf76cUM6EIQihOAhjwT6bao2NHYT3IwFpFNPvR4\n",
              "WtGi0+Z8Td8oU2rs0tJhsAphr0a03n/AP7pRHvuOd8gI0MqWeSlww3d5rTmCY6L2zQSW82BSeys2\n",
              "3ZrEfJXWWpaVncLXIwG7rpK2dlQJwbz/QsLDJXzNDujUhEpLfFQHq7vY4OrCTf+PGiY/EB55r7q0\n",
              "dZEuz4d7FzAFpUDHYDsRbd4nQZGAAABh3C+VwXRFxLRVxXwS/s8FQA1uY5BlmtpPCXheNswT6+zf\n",
              "rBeNDF82S7MOAbgDlF/QE/34xOSxbEwPhI7lYB05HjDVlkgf6Xr1q9upta49IBd+bYyZ0a/jeR2/\n",
              "8nPt4kyc/boaJSgHebx9CLjeFZk8YqW3Bh0kHY5PdjZWe1YbJH+imYZwUxWAwSd6JPkLujdxdy6T\n",
              "WerUpxbZEGBswACgRv2JXW/HJlnUXz1+5Vnz6EZ0serg9RFZfkDNiGolgFI42ShQMYffvzNIFDar\n",
              "+clH8E+Yw4T4w0qnq3YPhFVF5oeWfl63/swsBeDW+9LR7qYQmyPawZfu6K20rOonmZ20gbObr0yQ\n",
              "vNy8XsG+77h48zjK5J0h+eqUMMqec5QZK83d08WLwh6BmE++HvP9E2L6VgiGaaLiUh551cEkpI9K\n",
              "7MWEF9eais2d1KZygELocFdZ/9ln8wi8xTbCcXnR+iQgwy6i5/TZOxVBMhE+BISVB/0WpGzvw+Ni\n",
              "bFxX+HYbzO/ftPiKiclYWP/f2nfuAtMEjNKR3llHJWEZamLTxekzidVDMbrsK19kMhCSuB+2s7rs\n",
              "bkKiFzL75gYupr7hQyQN4wbNVo1pfjRWzUvZndtjElXiujG8+8yAXdQQBZ//6Jdq2Q+IbR1wjvEI\n",
              "Siw92nmb40otUHfyY34gR5sGqZ37wjZFDH9pEAGgf9nChfSU3kp2sMnTfFClvx/uCDgJkHGSzuTL\n",
              "CsildZFRWdayDOFLSmcbaZX6HH9iZqVvaMUMCY7gdstJgy4IK/YLjvOoho3G16cg53tTTLvO1rZj\n",
              "BVJttGUfKKMAMvEDFItdHBQT/Rmu1iOc7qxL9Odbj7PAbghIqXEG3C7gYFscMjfvMdIQVDIRtMXd\n",
              "qjSvhPKhE8AGA/5AYxVKPgzgzSeaSowahwKZ/p17F/xIvCOgjKmpneUwpc1XwCpTAmLOEjzpFe2G\n",
              "zu5O+7cUqJh9pAVs9FOAX4JbE2Cl+G1soG3zjF9ok65H959C7CycfzxPYv/bTgZ8zQCuRcp49gzX\n",
              "rtTLk96v0WDfMRIyD1z40R2PlxM5Vf0DDVPvD0tKlSWcKOi7AbWOAq2NrT81vMhb/j6vAg5q2esm\n",
              "zp/oWS0E+7tGqNAYtHZvF7yDxZ1HEepuwUpULMuflvFczDSaqE3gG7V6PzXcmQPTC79oRWsUwlPl\n",
              "QLxp08p6KwOFc0rUr/8gywBB/z10qJPp0+2Pj1bLURfxzEjqCEVFVB402VqlsFmjHuCpoyfVfl2o\n",
              "MbvdNdZkyn2PKYAHDJ5Yy6qik25oP/3300HbLPqPTOfc2MUbuaUFM0ZI15N0UWcn8GcpdHGTzqsS\n",
              "uowdUeLwgtD/XUjb/+0p5NH08dZWr7kqT92tyVKMSi3mD+ArDdSs/GHXu/fNIF8vBETAjVWwnBa0\n",
              "1TFJ8yeWltDTyhN/aaeYAp/lLGSrHvw8/r2IPIV+6FXBbfon31GT/Dcb+/Pb1l7JhyO9ika35z4L\n",
              "GxIhM5kj04OEsrMCpioNKlHpSrsw6aomn6Scts3VCWw5FuBo17s/JRwSz7CDCAV1wBTmP+uR8RK0\n",
              "APVMipyUdgaSXkJINSINVqBptvl4CfISMrIOnkZNzQyPzQnZ1AUedBUP2A+oZa7V1eTab3f3PrKj\n",
              "cswQoSzth2/d9SBT3gkKsJjoqHpU/zM7RcOKQZJnGK5F82RBx+JtvDT/bxA0clkSWFtjoWaYrWM5\n",
              "RkqbBzInqU5ly620s7kgdWP9WlgNSbwOSPeNLBdV59FBzy3nDJox8jvCQw/hu8vLddqo3VKS+oyx\n",
              "0KZDeWjEEADnaB9RBmaStH/smQgU5M8INyPqEYKBka6gEDhNZ9EngOxranp4fmaa5UuycAGiT2b/\n",
              "wKOw2V6ErjcnbTW6KUjvPEP2fJZrqb8/kvqDrSAC0IOguqwnbowU/7q3AXb5MlPzWA4a7tp2oxBJ\n",
              "cBgQ1avD5ik1jHhoIBx/v/uzVYPwURAwWlHPOL1RTckUQEQlSncWFAFN9d7p8Q3QTab1KVfbwmDn\n",
              "or2nUKx8UPPe8DlPBjRnDlyRCl8H3IMu8nmv8Wj5n/H1bbxJSa7wDhgO/RjSRV6pj/shpYgXeeOv\n",
              "bm4hgaKpEyqp9Yb4QczEplmWaxRUdUm7nwTmuefB61AGhRHw0zrfNY0wNoAGBRMIENj7K65U9Ey2\n",
              "vCERJeZ5uLH3IqSNTEGTYE4D1l8yDHYQbheMzIHBQ0Danw+q1wwq23CgmFpD5A4j47u0UoWl0V5y\n",
              "8jsKR8cvrCsyzWima0rbYQcZZYp3U9fbyZVBycaLO6LZm33VqaL5HrfFXi4xwwHhw3IT4tRmzLjy\n",
              "J1Y3NlcO7S+TaubRmMeNgoNiU6FAEI1sqqJN93lXxtQfCbGnhrkeJSltVYjgxQuhh+0WtE0UcCIn\n",
              "c9ut+gefcgJggsn62JIIzW/iSUPrDaWVdRnDVxIgO3YcS9N3eF+PvB3wjokqjIByRPEU8hQ4Ni8P\n",
              "DNCXzpCc1LHn96woZ5/HsT5DZYoljmZJIjrusj6YqjiLzwOIkgnTQEsbiGxmwhkX00neecGy0gp2\n",
              "FGSktS3xQRmSx/MzHOZi+/4lX7cZ8/eTFROEqMUqF1LLDBv23xP0ZgGFKk4+g1RgQv+qa1NdtcJO\n",
              "wL2WnvMR9Ox1rO60Ty1iZ0cRc24riMwZgEVjzPjeUqtn2R/ft5qPME+XPBkwxiwWACfa3oD7rcc7\n",
              "H1tDaMCT+3DHIpixI6Hq5a3wzd3WdOlwwhBOSy4zCOTpCXuowKmgmvF9H0P6uGkhz4fAEHT8U9Z2\n",
              "LfM+U+oH1Z4CqPADBXPBC0/6yQ7I/o+HzaoAU9pJFXXDkIu200QA8nZWAgxwj40JQFQse670FgV3\n",
              "ZQcX9LKTXmsnpdhmhUhsWDJszTK6G//2fT8UalEpI7Dslwzq8enGP4FK/VLEzQaParq6lgRmV2TX\n",
              "jxuueX/IlF3OfYVmArP1+Z2i9bYqtXLk+IL164rMkN+GGPtnFPO/nxElWXlk/G6P5+4AAAMAAAMC\n",
              "nGjhAAACikGaIWxDP/6eEAexR5ElqoPytVwqwuHaZh7wnt2FJ3+2+88nng9NWpv4JvwD2TXSAszF\n",
              "n6i6L5xpcT1jn/C+bC7SDRe6RQsAMRhi/1Qata2/jiau2VRPImUIId6bKS6X9ifqKKtcxZbirsv4\n",
              "EIWXs1OoHtKo5mIFgaBuld+2226Y8/9QVjDEyyVUPecHI3O2tc1JMghjX5M1wGEwMvlzCP57K2vg\n",
              "86MUKFflKkijRe8Kav85ar68hntzqs4FyGQ/y7sQ1chyQiGQqZ0KfC/yIjQDrmOwxt+xVAkx7oZi\n",
              "gzt27jJ0MSzYbrC/u3zeP2VQ96kuPm8jjQy5w4cO48YkIc6URADjidZ1b1Wmu3ZLjj1QNbDPMvjm\n",
              "jU2QqToQD6wxWqVFqWAsew2Pe4qZlmz6cwUlSrzoywerhork9FtIfYeJCbW0qxe6BHJosxmHLDbr\n",
              "VGUWFC87gmg4+zGyYMPzA6acyhy9aA+E9frpalRP0Ar/s/yGw5aWgu6fyU7ZloA6y5e1z1gn2wwg\n",
              "sGHu4qB4xCjnFvT/QzJoSM5GCyRM2iseN7RETxQzSZ/qBPpTCadQ+dlJlo5otiG9gcrQ1x46kzjY\n",
              "0wbnbGayp34oUWcJKyp/9LGivaeLVIEUQA+kXX54VjbYygj1DjWrXeNSGMe19p8Gcdi2p9tOr/ZD\n",
              "Ipxj8/q3cd5eKRAGOGjfpAGBHl6X4EboMHrCrO1BOd1WHXnO5l3aUkTknt0ltSRd4ru60mNS5Q4F\n",
              "xB2wT9NpxG3iv3RH8TjpITNY1W1p9Bn5PVRC86EbQLMFNNOoQy2bEzjZxk0oSRYIcEZvVRUjJnYb\n",
              "CVkWhvCq1UpIrlrEnz56XfN6oeaNvZ105GGvAHNAAAAB1EGaQjwhkymEM//+nhAGubXyIMulC+81\n",
              "y9QtqLOIe0vdREHtedoFr9VPsTyvOUWpUd+rm7IGxtXfiMdnlSPUdvoT5z2KHsS0kD3ez/yhU03K\n",
              "vq6EeJGVPkBKlQ433yY+hUs4l4s8Qdx/NsXTaPfDZ9Jvj8KJ/f+9gduqny58LPduLbRcC1ktnCk5\n",
              "fOSfRcpueLuCEeYbqOWyevMzHLAOK/v9GhaJWcV9JzFKqiT4zor40AyEwQMwTE/0U8qudwCDpBow\n",
              "E0xSjggqK+theI+OKbc++CzMM0wvKSQTtBwrHxsC/QBhO15fQdmN81+NJzNws2shL3M0mmd/7Lrn\n",
              "Hkxrg7QSB1sQoLeWb34HbYM1u2yTWZkG2FbIRs+CYE5uzXNjQubOSsMDvJ9IJ5+mbaeNQPA9M0dF\n",
              "atSswqd5Q3WsLTd/rZiIhOTdMGtJUaHAK6zq3Kbnjps5Dc8O6vIzip+LDDwrpGjXfn3kBBSLQsj5\n",
              "voaRkDyEdWmGfjEtPh8eXEX3Sg8+dP6oy1Bh8Mby8zVBZBPpbR2OT0UV1Wmq0fGQ2FGIeEjhjy5O\n",
              "r8oZJ0dRDCPl0FPrGp/1UXIt3/eKmZb2s9vkKcJnJ5kgpUWxTLwHl4FC9TOBUwAAAZZBmmNJ4Q8m\n",
              "UwIb//6nhAHBv4AhER1wNFSp3T2fKmkU/ynS1UsA20awLEGRJJnhcZge6630cWNQtrcp8Vlgq4GX\n",
              "N6Qx/M/5/x1wJ4k5FJ3d9HO/ndQFH5IbqSaO+EEOy+EoM7FmyQaZCLVjDXruRPkRuTE3w1XUIrxV\n",
              "glkKhCOJ7UaChC8dcWUcBZv2m54ixWJ/rHjzG9ZtuaWSeI4yz0ZhJ84k9WldFjlB8Wy9FZx+oN/u\n",
              "OjuEpjbGEii2xWo9cfPmznCyvybz9FeokxLEN/ns9tf0QFIYSnrk0es3g/VMjxFX/T0xZDb4YlDe\n",
              "wRxhimTg/8JcMxtXK50wL/IrpCV5ltEcENXe3sxrYlENj0QzUJJOUF6ZoX3RF0aLqKA7Bl1Gn3ce\n",
              "BtAMDhLbv2Sbc88mOPI4NS/K1A80QRoxWppuBvFRaqRP8lg9xasBr52UpnNWL+5mm0lb/zBRhgpM\n",
              "ncpUpTbQvbLB+rVH2nfKeni34Amf/FZmG2iemDu1ojANJThU050RK+ODWQ0twTgWUtMzTaYk5Ktg\n",
              "AAABxkGahEnhDyZTAhv//qeEAA2OvfuCEYTg/URL0hrl37bG6N/wT7ZMBBhbC6C2/HNv9sw7tZ3i\n",
              "wE9nicp6RXIVGvyIitZWCc/PK8KrdZa+WJM14KZvLROLDweU6p38reGcdAUdqVstRaieUs8yiPpy\n",
              "0XhWGnY2TfWYKt1aHaSTuS7SbLmko4JZyMYMEo/nqsDZIJZ5IOOaNDIktAzJ11Azu1RmU47GkCkV\n",
              "pI4/nB24h/U7N3taJLO9ZBc+vgoaUNMiu4Jg2bSghzyU7nYE1Vu8GLvrCt+2nbn9iJWpdHm/S/cz\n",
              "WGnq+YcbmxABw56saO+hr8seASssFM5g5pctQ07qvOkqoRYe7HAfKlXixmsWXO7qaTW9ok0fZFvo\n",
              "VNyui6Ya+v2cCGJI0w7evAqsBlmkFq9vKj0t4O34EQ66SZrngnw3xSqTlJpA7ZoiraCs7+GaE93n\n",
              "LWOVfQpCoV6DB/53zLJ7nNS2utDgtWmSV+5mjTaPm8nnOyvkxFa7eAr4Pgkz9EtMwCbc+fmDj4W/\n",
              "ubmVaWlRgvCWWA7tnBe4Giri+08gOynKx86C4pzkt4rCqXUA8LXrsl9bh+sa3mma8TK53851Kx+5\n",
              "A6cAAAJ8QZqnSeEPJlMCG//+p4QADXmulzjR3AJPVl5PCtAwxgWu8ROQqENhBJhmCuja+cMTXvM8\n",
              "zr/Hd4J79/YwkYr3QAIFfQjWIu0eBGb3Kw0RL+qvPGule3KfuxlHU/V0l66IM7+B0oXbQyi5K7Wu\n",
              "g2no/T7lsIijqrOVZ3zQ41AGaSXRZLXmMpgk87Lj4orTJPOJm4VuvzcdKaWtGlxixQYF7fOozpFA\n",
              "Znl/w5lKlqUTJfQz+uVwPEh1YPw1X6s6cKjpLztzRq0jpluA9X66L5AmU7Xe7OqD8FPn22bBTKuK\n",
              "QM4iKRmjWjmwxq1t5NRKitwbU7wsNuXZ7l+tp8/09fNXzkCsJMruhzepRXDs1k69VFdz6s+sIIn5\n",
              "0sGXXKWLrch+0FIxKii0qiet9llOIaaZARL+rvWVjyIudfL5oEoA863Rjirq1I7UwVlcblH4DF9B\n",
              "+2sXkLTe8FtDpogfXWjmYST5+BzW9GkR5lUCdH7UPNaALoSxJkg8nj8qR9Kcgh/+plAbRQSxbULB\n",
              "U3J7v3naCPmCNKAROgh/b4jULgwQzTK/qxms9G5t56+zm7+tvpeamO9mIGlRcuRUpvn6zYJy88si\n",
              "DQuTvaeuFpO0n3fI9X/v9Uf6haqy5xL5Xt1IsaE3P95X6jagVxVOEGA7NtDRpJ9mN8hfDfyEIol+\n",
              "45oaJoDBa+g0HRYsktbzCH3KAqLyG/1wgSn1QbIpZwgw6witaKllmSlL+AzvnLudNnsOUNzwFcQL\n",
              "M3jT/Er8Km4CfJ3U6y2xd8ddq60fEjrHKsx2QZD8rxvdEIpquy8ppu5aBtgpCk8puQwEKzRieOAg\n",
              "RVTJIywzv3AsWIvWjNmBAAAAZEGexUURPCv/AAsMlpRFsAOe7xjQMRWJM3W/Wcmct5AANxPPQz3S\n",
              "8aCRp4KCKSwCH0j4GFpCRzu2BS9U6kSXpqn4oaY4cKfkRA6EY3Rua4bkOPmEznZSxB3Zyz4839G5\n",
              "qqO9yzEAAABJAZ7makK/AAsOec1ogBuBFKszdrJncaxATuGZngo2Fs+IYdc0nCdvOTHk4G/Ri/LY\n",
              "XUI/er5IXC5AZfpIfk4rD+XETnbw7BSIGQAAAddBmulJqEFomUwU8N/+p4QADdENiEFgeba2GmjC\n",
              "ccKdHVqORQ0uJ3kNZcIqwDvJ906Frj+OoVwgsmV02Sj8NWX4Mzejvir9jeCy5a3EolwA6O/kDdr0\n",
              "zg0V5DsHqf/XxhqoKbaPM/EP3QYHV9htvJ27GUmJ5s7uulNAb/C/gEyCqNaQyMPGMyaWbhOuFUDO\n",
              "pc0LGJ4/RT+w1j2f0oXq+NEOY3jHQsxI5lv0T/MbytSEIn1DhxG2nIA4FgAVUTBTvJRtfY5t0S3e\n",
              "l6TldsEq3X8btjLzh3ZsOLvDtC6om6uIqdjsQz6/EvZ0DFzUgshRmUJWUyHS+JzYvm6/O+KCTOm4\n",
              "qZ8IDd50IMCasUQzE5B0U8D/DV2JrWWSeTIweTUG1yrFx2iYKX6O4me+6GwwQOh9DNyLLchFlkaP\n",
              "wf69PgsuETeymIQqN2IxZ+6+D6jhRRmr5jvoyDcyIuHEfNWMWQzEgDgVArbi/iBv2A7zcLK4olYZ\n",
              "UYwTVOeoX/+XbVpBpGTuw6NQEvjkNEpxz/lYUT3bKDlkWWDEZ5FvT4trf3qk4VR+T+6fFwjBnYXm\n",
              "wtAlFd4YOyFdTcyf5JbycHpgg+BAY/XJ5u76pRl5rjYq2DXuiU8HqfyeCi4AAAAwAZ8IakK/AAru\n",
              "m+13doh8Jl/g3lLZmEfkD0bcgDFh14pyR6LVJguqup7sgOBiPibgAAABvkGbC0nhClJlMFLDf/6n\n",
              "hAANzC9AFQoxJdOiRR1zIBZVIXuFuNwFDlmoAOnDYVHwTGuaPVRK9sIxae8sHjjXgtUOoytPHdAt\n",
              "ztGwJTmMyUrkNgtm/RmihMlZTUy3cY+PJ6oBvsFfnFNwCWXrdmtA5VBp9pPf7HXoXl4cZxhn+7E3\n",
              "b4fNKRLoNy7R8UnVtPUzZpTIbFpqPsMTfN2X11+ZWbfAvBlu0hPTGOGLPMl7QsVPgB6LPDGp27zJ\n",
              "JfhFJYH2Kqn2u6ljV3pD1nMRmgslOANJ54KdOwqlwZy25lEcgyOPNsQeaA4J9Md4LL/yy9UpjCSY\n",
              "T7VQkIu1uFQULtdc90rfs90Vldes9YDTd2QPoKzzq0sU4/mgMJK8FkVkCTTZd3PHtGdqQppX1JJY\n",
              "7pnYkQkRKJuM54YX342B9ISx6E8NxTok2n9eJOAQ+yEF+uS5meYHj4xofCbOv+dNVqfxftCRJN/Z\n",
              "JiWMDEnF1IXZDPE51ytXtr3mV8np5MnkeuodB5ZSv0kQyUvnXfwogexvn2lYmVvunYLu412RU6h1\n",
              "deNxFQK4fsQCAtPR8i4U8EwGjixQlvDH9cj2xTSCHQz5AAAAOwGfKmpCvwAPMywCeW+VdJdWiL76\n",
              "Fh3Yy13/w5CknfZKEIS8d++nfPYfCDvpzrFtnWP6GMKmtGGcl0mAAAABokGbLUnhDomUwUTDv/6p\n",
              "lgANlUKKxAM30Cy+8nEBJ3LcjnTj4VOC6EQR3Hd1RXwCluqKVbE3w8xYI72hNzNwMNvBPTqjfnnT\n",
              "3kcsRmoz6zOR2bw5h9SbUm0vMFSogyYPVG+v0QmwCOF9zn7dqQ4yT6r/e2iZ9IJDfNmiRwbeRZaE\n",
              "eDou1DADRrBqDdbwj8d5ahWm0YPGxcA8qPlJFHCV72dAA7zwVVQxe/Rp6Jm9nfsNcCGggBeSVJPn\n",
              "T3mUopIDlEUllC0qZYBW5dEabjOxk9PS8r2A6P1FOqM0naAalr/kPLRQlmQIBL/azBfRdbtJ1LXo\n",
              "7Dyrs5mKcC/i2gi/96CTyDd+WjdXgNhviXIxQgeKCNKlM8oEifcMmdX6pp51xzEYZbRIlGuwChlN\n",
              "mfkeM/iu2Sa6KXwNmQGzw9zCXQRVNl6VfeJC+cY7dUI3krzL2bY5vsFYCR3vacHzgNa0SKF13jzb\n",
              "X7yrP9UqhJNsvUshAhEJBpMwg6gNG1YvDt3dRwNvBxPza52uTovpnkvkjHO+NiMne8hL8Wv1PFE2\n",
              "ZIraX4sAAAAqAZ9MakK/ABYemufBn07jibkhXO708eedKHwtLHQ3v8Yl74JhWHnmpqqBAAAB9kGb\n",
              "UEnhDyZTAh3//qmWAA2ZQ6xsaAPHKHMtWSMqwXKmiJ8nosa+hHPryDgm6YoAhkFNGTBoSnHt+Jsz\n",
              "5fOzFdAHcw2z/bRng11EJBWb2O4Gj9MRs3iIZGVDzPcLroU99gIwt8CX8+XtC1FBDzB3SyUNaHxz\n",
              "Ogy16BiFETmzv5rCvGIsf8HLpPYya0fPw1K1nY05blwI4umsI9Kd1P1mkiiu5SQu9mionLIYVk+K\n",
              "L4upSyanjg4RFPnOvkW3zNHkbTREa1ych7omeZY6i8MRxgcyis8xn7aacLTZFy4rTjQOb/rCtpRh\n",
              "CUeBTPoNVdnTxCHWe95uWGQZH4wbUdJ2tqGctKoiPMW3lVkvuV7yJNkiCGmyRw1THcDmrXOJYI6z\n",
              "f8Pcr0EJpEwnI7w1BTkC/5UCKebskPltZw3E28BrXGw02ebEc3RXyv/1I11LbqIm4tsgCTIo8KMG\n",
              "OP2LsVIm/LRNgIs4vUgYygZcW+JOdhMHDV9XyM02AjJUMgOFbb+sx+mnDKZHk2Jx9KusN+A+mjZw\n",
              "6F1kdHbUBZogHIAb2kZm7QuMqESDHK7opfjOTwElNj5Rrfg1q5edEQhfoiPUr+Q0qPIybKiYZ9nX\n",
              "9SdQFC5F8BBAdWVur08slcAV0DQ0nUON8LLQ+E0TJOVdd9cWYjGTHAVg3oEAAAA9QZ9uRRE8K/8A\n",
              "FijFy+ht+P/gJJG/HJthXWMXf7dqGvxHAv+UYMxBnNCXRNyDjkIzZrbx+acQEff4aTzCwQAAABsB\n",
              "n49qQr8AFiwmrTfFf7LP75EtN/V1XZOOHXwAAAGhQZuTSahBaJlMCHf//qmWAG8lsHiCXZSiZ3/o\n",
              "YbxhgrSjqXWfsuBWOL4szfiONqQPFhc2gdK1vyjqu/jpiYkPIGGve19WM+TEB862e0vtn83+4ARW\n",
              "XbYfh1VJd7NGb18s8ty0Pgp17V2Y4b9aukt6tGJokOtBO/qBw3kiTLjA6mRY3Vswk4unNZVMM6JS\n",
              "UTCrpC1erJz6ekz/GGMw/b9UC7AjtTQhvcQz0sLx/r8CW+UNJahwMOtTnv9VFhUp0dAUM22oUA/J\n",
              "NWx8Sn5cEAwakAtGw0iyU8qp8qb6Cs+IGOg9dDT7aYQ5LmBp4XviNIdapCcFV+FqCJqcPT0lT37U\n",
              "Nf4JKyjBb/VCNEhkSjgR08TBx3r4Ox3kt4WtQhF8iayG0vnO57QVXxPxX5iqJKL50Xlk6W5x8C3U\n",
              "yK1oXq8YyNfT7fQY8Kb6CU7Z672vefen54idrSIRezEuR+vYdg8WFT8/14GnDZcWV1oPMI05PdpR\n",
              "MX8xQNr9laTMXHfVsfEEOjNbNw+eYRUDVKt8day3uUpuv19iPgtjEY4Pal4mDUUEAAAAMkGfsUUR\n",
              "LCv/ABYsLuEdV5OjtEvdUkGGYupjsMMpRtGnOZMfRQ2/uudZBKcr1T9EYEj1AAAAGgGf0mpCvwAW\n",
              "KPjHrzzS4TZ8uPtl2TAQFPKYAAACAkGb10moQWyZTAh3//6plgBvGE9lZBYiVEqJpraAHJtkZwMj\n",
              "HQ+wX59K7qR55S+GswR9Q8wvXD8xbXBiMxPPDj/OtU3taotRQ4vw40/jDxxQAAa3/uMm4BDax66N\n",
              "Q6+FZP+/hnVm5YZfNqN/L6IOpVFsO+gDVRDa9wdAtKoVyGogftRYUzV8qyGcyf25mNlhkBYOoNWm\n",
              "+IB8yWon5zzAr20On2sYfw9sJuWWKSeOy+uDH3mqwvnGxYZFRUvh1zBnPCd5q05Q6/miBrgEfhDa\n",
              "vhX5/iGW/+UZQ6BHjfYmAZtalQhEEgKGplOb4FnzrzVjpR0Z2TviLTDdT1Ag1pTnOXermr8V0vGH\n",
              "sy9azebW6yNUfti5VJ1wEhNeBDVTUH7Q9WUoRwryHkGA+B5Y7otLWg4x2soPumfHyxLSbiNuWr6n\n",
              "t3DqDC31s3nfGCsLbMu+LftNIF45/Qc70/KpWM+VGx6cfmnxdJjU2xBfHziYmefYsbjuUUILRaYw\n",
              "jBfDQFsd7KgnSjklUmPmy47f6Q/cNSn/uGBTVR+J6d66TtLY8WIXoT5Dz/uGiFb193GGWprzfsuk\n",
              "xzzP7k97o336KFcj/UoQD415Ke4bhriaHmQO1Mxmu/x1eotcnczfzanB5Io1hXBL0+0gXgFt1ME1\n",
              "VMSYNyLSErp1IuMNXpSoZboasLfJW0AAAAA2QZ/1RRUsL/8AD90sSX4zONGPt5uqc6AKkI6JWpfy\n",
              "LeH6Cy5Df4MAC6OrDfnO/Z1cGGZqHj8zAAAAKwGeFHRCvwAWJjop41KeuiYXfXp8hQdMO6mLNemz\n",
              "miYFTDTN7Z5U0BC5jTAAAAAnAZ4WakK/ABYa9wqcTNdVATBm59rHHlxmwjQeG8uEWfAp34gxVzTh\n",
              "AAABakGaGkmoQWyZTAh3//6plgCsdBcANv+cmdgEtksls1v7YQdPiaSPyQS2PTPuZlShhsYAZnMa\n",
              "4NslRS8qjr6U+ncH12jChd9n45G5cL3glx9aV5F8Bglky/QS8FhUb6q3sxUgqCVH/VW7KiRLqpk2\n",
              "HlT1c1T86jYaLcelxSFUEU/dQbtWUwlwwklyf8/LddzDSc2PDgh/BNt4qPkoODAHDjczmxdQcfnR\n",
              "S4UWFXcJegksudmbqobagBXRuQOTduzyNwK8vFLKTJyKnq5xYFIeAhYZBq1M9+PwrAm0YVs5yB8m\n",
              "NotGpUQDgxqNZQFP5IAJi0sRqydEVI8biu2frsxJ3PqY2ryXklK5EYyQEgBknB9PNtgQqxtgggjz\n",
              "IzyDAF75s77DuHnQRgIYKU40NzdcLCRNUAOlgfrXCG8bQoaBhAgaw9eBU9kbMTY1JyQUj8UERcDW\n",
              "x9AElomVArzc4sMvrsA9zhRSyfm1idbBAAAAJ0GeOEUVLCv/AQaR+/fs87hftN0ebLCXm7SJEr3I\n",
              "CDzpGcxXbhWggAAAAB4BnllqQr8AFiwqVPUXPJaocDZYVt5AwCYzlCaUjKEAAAGiQZpeSahBbJlM\n",
              "CHf//qmWABsk8DEuwYgD08x1zXJU1dT2Zu2Dq/awgcvUvbl+YVOr/hW2yiWDPCFyLgNyHjx98VLc\n",
              "UXqzIocSC6QuwgoTPjrlANf6uOv/PCy7zzzVOOjWUj8uZQfPna9jy7KaKQ4fMdmLrjYgE2GHAsTZ\n",
              "ACFd7h9/DQidmUM854OEFs6oFb4qu9ChBs47XcUoj9iw5e+wGpgu9e8qzyVvf1vA6Q9yM1ODZyr0\n",
              "Ga24RZ+MgIuEmAW/EtwmaBXs78izDfKLgHJa+92EP9l3jYZbc6eB//Kg69rgqbT7npPxs7GSY0dc\n",
              "gcKRjHgDZ351d4RQENNblP7OWktV1wyouzgkwDQ3CqOiAJFQx+USqXBjhEy5fNgx1Y/CYRBo2W0E\n",
              "Ljr/G+PDVNLbzrHAoaoRLzAVgkx6u4Qhv70i7q/Uig7XgeHeuex8iKXs95zRmL6ksgPAR4ndn2Y0\n",
              "V8UDmbIr9t10SmlMb58Rc7Az3uHtvCPcOOSTzRQaMEG7zLlonLq27yVMpXaA66f4p/jOptmduXFX\n",
              "J1+Vb4uYoAqtgAAAAD1BnnxFFSwv/wAf0mMAT/3AZyDvXYrnV1vDf0r1aocI30UmRjsBwhbcCVM9\n",
              "vHzD3Vs6+74DA5/n/5aqCkKDAAAAHgGem3RCvwArKYg437/ag6JhxlDWGgDr/h4prYYEPQAAACQB\n",
              "np1qQr8AHmr2Hr8B+B10VuWzkDElNP5bOwvg9CwPC0J+l4AAAAHTQZqCSahBbJlMCHf//qmWAKH8\n",
              "CbBdcXJH94gB7kQ7hrdHwmNT8V+2FXb/vuZFVkDAry0FXIWObpZOTi5KFtdWJZH5fsDkPFUKwEfb\n",
              "qJDbWZkiEq4UR/1fsPiU6zpvSTz4c/Qy6sYZUsPS5e/p/nSovrvyRB/ZjF8cJcx8s0qQyxcFiaO6\n",
              "J9hnYhexMl6GH3YMQmuXbuMVhkQmW8kYOnpqwJls+TI2HL0szALeeWZJS/M6zxTLc/1sSrbmRsO7\n",
              "MlsqK/buVNqg3WZD5IcIk4T96dPUGikILFDA0Xojgt6FGZ1pj4bD07PGev8TZhkFKlxSmwzzt7Ey\n",
              "kAiYe/k8Kt9L5T6M/f8HpoEqd7/CYCsweSzMrx0hUIzndBcHmxPEiSzCQC8Z06QSq0UW5SRv85sw\n",
              "l4m++PN04zgM79s3rATepmebElgf9JsQMSVoVV0oGl43aPVHIsNQkLAPyk2ydzm2uBM7oJQrcLm9\n",
              "iF29ImS4iTX12Eph7lQV6r8YS38Yx6JS4raj9Llq46AHBTXJpdt2EK9K3ebfJb/KiZHqUdJYdxDA\n",
              "ZaWe/FZ9HClWbLEEliXeCohzLhKG/8wX/SSH2P2u/iBEzS5NeSSKkybOShrawso4HNAAAAA6QZ6g\n",
              "RRUsL/8AH7RcV3iAG7Bd697Xlmp6KShaWB0uwgg1m6xij/XrhQh0ZAijObtTpope3jJc/8DQgQAA\n",
              "ACYBnt90Qr8ALD/9V5gwMYfNJj7I7o6EXuIwVky9dS0rbd+8dY44+AAAABEBnsFqQr8ADtspmr61\n",
              "MoAO+QAAAU1BmsZJqEFsmUwId//+qZYAGyTqlAWtQBjZiFyunk+K1BR7a4KVYDP01g78elbH2x4X\n",
              "Em+RyLJpmn6UfGuDT3Z7Xz0JqD1NXm/I5/OO6i2TfedaDDMBF/b1G0ie/5qHs/YAuRsS8zJzS9Ju\n",
              "DZeXtYnIKjJrq3467SlpB3mmVm4/PO3LIqgYjoHWasBAlTe+zDpTU4tL6Rf3eTyUmL5u0zwjhcO+\n",
              "E+g3UylgOWKIhL2nPpoDYDfN3AG0j+6UDGW1uUp2kF9K5rp/FXwFHmRVTNUbddVEmBEDyBDycDwD\n",
              "uxxb3/dD4UCAP2joZYMQwrKCCP5uGfgr6Y2anV5QmmMwRgxUUJQIZrIaWAGzSBGX3KOe4rj6qdF4\n",
              "KFSX6LxwdGYRYa/KeKVT3THRrv9HxSzygnIeTEQnnCOHUkLrCJ9pYoFKdE3MCxT98aBne+G/1NoA\n",
              "AAAwQZ7kRRUsL/8AH7CXyXEAREBkiJk8v3FJ5CVyr5FPMTcmulGNYLuyRwnnv94yIwXdAAAAHwGf\n",
              "A3RCvwAeVBCjwsEh1P/LQIB0xXLg1PbPySGMPCEAAAAcAZ8FakK/ACxWBoPVc2p461XV0EKVLZ/Z\n",
              "3FzpgQAAAYdBmwpJqEFsmUwId//+qZYAGzKLXDgCDnhUIooPaQP18ObD2uCtsI8o+eibUPjpZZ2p\n",
              "h74CjlLzL4o1pxZNTSOh8GRJIUWwXhXHBk/UDStXWsvpP636SfnYnB59IF/wLZec7N1Wg9wwLiqs\n",
              "y16su8WO5NRn6S1wQIehqG9fgAkU7k2xDS/o3X7yDxqjqldjMgsUj+YXcwkexInOGGGnotf8hsbX\n",
              "8K6KwLpYVUZcxifUBuTbWY7eHQTEC7xuOMCvjMK+uWZ6/+gyHjHkUMR4LVFZDSzUGZLgZ9FGSEYq\n",
              "jOJpCAHHnXvoT+RgsAiTksOoTrPV3lQ9rzxbkFsT523anpdP/Aj0CfNXOrqipBOW9p9M3we/xqjD\n",
              "0hOm0Pmz3QXVERKjVq3wdZ9h+ahv0SIEIqIzBqFlSsvvjsTr+8ZXT3nmN2wuxQD2sGCUKAC9tMY6\n",
              "hJsSVOQKxFm6Cld9P5B4G61200TesTYq+eZBKB8npzwOjdoCofeRahTKJA8rt+hCQP3wWPRKwOOB\n",
              "AAAAGkGfKEUVLC//ABa55cv+z1bp+jkzcq0BsZpUAAAAJAGfR3RCvwAeY4ujKuKbuj7x7i3zZ3g7\n",
              "YjEjIe2wAmEJKkCbgAAAABYBn0lqQr8ALE1M7LPZbZ3a9QMGsUoLAAABTUGbTkmoQWyZTAh3//6p\n",
              "lgAbJNsUzFRwBBy/vbzLiJOErey/0GM4Hg69rrIV1dMwEXyltPKhDZV+iM7cJbbV3MYfmNcoGrO9\n",
              "b/MGIhB9kCbAUasYIQvQ6AiJHo6NPzot4vVyY24unN5ElDsC0zLoXjG2cU1jjN9MeyD6cIRDbywn\n",
              "MqAJTpeqUfefBgjCqJLvSWAdq2Qojk/SSqzSqEQG7Iatgf2i7OyXCkDBpuXSMQXBQxU6JzSv4vQK\n",
              "uMYWjHgZr9mqW0ysLn7XdSrnsCFSsIqb5lMndD22A/yNFtsHCJQXb9Y41Tl/kWtU1MBJIh9LNL4A\n",
              "RH4REgw723WM1xEZhNUzK6F/2RVRbGgMx2gzeZPi5ZzK6oJd0HGUNSn1T+ZAEJGcKXFzn/OmlTAx\n",
              "nf5YeMJIjEQtKV1c5+jO0Xgvlr/9OgbM4jey63kyHx684AAAABRBn2xFFSwv/wAWt8d5PX4DPVkC\n",
              "gQAAACEBn4t0Qr8ALDXyYz34OgoW4F2DnYpbdcakSb/4rDh0wwsAAAAdAZ+NakK/ACxNTOyUPMBR\n",
              "PO82eqW07if1GPtiDjkAAAELQZuQSahBbJlMFEw7//6plgAbJNsrbvRADqkA3PrhvWFm40/2Z8Fl\n",
              "9ARORxI7IPasjxpZZPEZLs0UqXoXb8BJ3MatPbMU9o0tq6/+Cr9p/1+ueP5IW0lmqVlDjkJYMMTx\n",
              "URkTsUEWhMHRhIBLY0ExaiOPGPtzlrYyRW+2gT54YtTelD8Kb+q65hKaxY8NDKnTzcAvbgIpjW9g\n",
              "7/kY0RhwqB+ZcV0/40vgRZe1naxk2BQccFbhIqOVZ2FCu0ZKKdBWpEOGCPrJSrkMZWvJU8X0gnTh\n",
              "g3LuTzXncbZGuvZUuPFNIGFGb0w6LCIkd3vWoyiFQGgZkxNPq9CewVjobwYEywFi6L4JckJoeMqB\n",
              "AAAAHgGfr2pCvwAsTUzslDe93WLVuuBT9CqWgksZcqHPmAAAAW1Bm7RJ4QpSZTAh3/6plgAbMowd\n",
              "CAFRaBpkLmVhVrgCi4jBdFrP2Mq839vKiO84g7HqjoifFwvYHQbef8xVhPE/4CU2vHmN5hgLNi8t\n",
              "/9MNm+e+JhXxjHlufvQ6vOf5d0+ssDrIACLsJV2RLDuZpKmPVGdoNLkWIrMK4VGCc7DJB38bos6g\n",
              "736XgPkLUydY7lW9qfy69ZSNTrqVbN8926iOHfIdkwziQjgLK3daACs9eMspDWeNCrzHFxNlCl7v\n",
              "lE7r9pHMwR5UMhG5ctLjOygozoRc5Q+S/7bfRZFbjXFvtWAemCjQhZal4zywsAZSkQj4gtWyW7h1\n",
              "+XqZIUYQ8fZ6hSYrEENjWARJD2iI7f6/k+vJq+ZyxiX/Mp6Ulb5Rl5JeU+tmld0w+ixMXMjDUukY\n",
              "3oZEBrb0KdrvCATR7SUgWrJrzh6cGTo18RAhoL2tWVpner/NnE2RwFZ9yOwkYqio0IZvisCX9VUT\n",
              "oo2JqQAAACRBn9JFNEwv/wAfayObRS3RSozVpF4eN6wAHK6UYr5dBLLPHyMAAAAiAZ/xdEK/ACxJ\n",
              "iOhN7/kVMvZp/ub6kP1WDd6xdboIxBCkgAAAAB0Bn/NqQr8ALE1M7JQ8wDySTVWfCfIXfIYi/Rzu\n",
              "gAAAAT9Bm/dJqEFomUwId//+qZYAGzKOqWgCotB0D2sLijMXJv0GFCVVXeQsvj3dhmDiapohBGnP\n",
              "hEBcZUtQK6k+oFEVpcMTG4xp63/yhxjIcNbx5vlpW7Q2Z1Uy5cVjK1RqPN+si3Q0LJ5rnecZO5/8\n",
              "ZtpNkoLfGlj9MzNsC8OqcLnJLOGL0/NHc7Ml3PXM+Yp2KSxYPMvjx72SJ6qsnAvUFZDZXzb1xOEk\n",
              "M3stZAj+j4v04CazuEcXBqe1h9D9sHS9R5Z8pyVf/rn369MDXve5oOZ8EY4lb8t+xKlVyxycl+jH\n",
              "/qnznXYDKzedBNHWjtNgiAl2ej/vsrqy/bcBKkml2j0o1oSZzd7QOp2MRbZUgAlEWDc1X+8SF6b/\n",
              "ZDHCSoQkIpxpgQJWfXvMNlucTmDjilLhdMjt2ZVagBy0+C7MMDphAAAAKUGeFUURLCv/ACxRAXnM\n",
              "xh8i1mjfGdrxP3qGekuR1hcfJu6fl+Q9GcJOAAAAGAGeNmpCvwAsTUBM+koNnmEOr2z/ST0qMQAA\n",
              "AVNBmjtJqEFsmUwId//+qZYAGzKMO6QBf7pnU0AMRo4fqjwM4UC2Ha7znpRK1oFrH3poLpMfMCnk\n",
              "LYAsqIWOS4144Nr/+ROoOHxjxLB4vO06l0zQBwX0ygAEwfe9zhaX7N4AnIjaX3MB0QNYvSiG4cL+\n",
              "dF/IjRFHxM9DAwQfU2iTcLssEQv6jQP0381F/H+2zQOt4Ng34x5bg2B6/vCH06RQluRP+BYMSQVu\n",
              "hPcM5WGroC2qWwvcOOaYsSKGnDPXC+30W3vsbe2Qr/dWt4FAMTbmLDTagXkm3HainEhxIlpcM5A+\n",
              "/mw2IEZHeeByiZCHM8pVWrHpsqoXoZurmlKi3HRM/OrynSNYqGVvoFm0BPyTsd/HAgxPhOmzBdr/\n",
              "uLxnZzyg92qrJ92XF50ji7pJcxSauGXw/h7tHNvbA2h1FSx1tDPlzS7hz51Ju7vkJBuqrx8+IQ8A\n",
              "AAAeQZ5ZRRUsL/8AP4mK7mx8y8hFT2NDQAa9P0GAVTdMAAAAGQGeeHRCvwAsSYUCcUTmPX1vaX+w\n",
              "Pp7coTMAAAAWAZ56akK/AFir+2pFjgek0f+QPxy9+AAAAT5Bmn9JqEFsmUwId//+qZYANmjQF3+G\n",
              "lcTefVg14LvyhqALW2YKFQGMbRhDlZtFh1T5WP2Q57PkBmrrvJQKIXZ1cNJk5KfWVQm9JSw8g1CC\n",
              "T5F5htpG6rI3tFwqbdJstvoMJ0i3LOo43xpLvOqDybsL+4IZEuvlU5T8JdnU5PRvs3bjUmBsM2pb\n",
              "VDzpSRETJFIIt3WZ45RCHpfbh3AU66ge5oTmd9ZGgr2Rsmrh0NLj8BGGQAUFBpr4Fgrkpe2/X8hy\n",
              "dHf+hnx2osWxuf4R+dRUGzq/YYLWs09OtcAsaDF/+0sSgsBe9yZWJWifPkYov+x0XST8V99ORDpt\n",
              "AOQXveVbxBzFRJf35Aaa6p/ym2TtYYWbe5XfolZ84b6ArrJ9hNCASDg6NNHRofT1h5gAk5XEhxmB\n",
              "gqaPaOM7yVlPi2kAAAAkQZ6dRRUsL/8AP5EYT3feBDX3j8l2GTHY6LRRKqfywVTuxAb1AAAAHAGe\n",
              "vHRCvwBYkw4OJjkgMnm6aky/R6dgsk58A/wAAAAYAZ6+akK/ABWYL+eSey0p8yCBDgImcD0gAAAB\n",
              "TkGao0moQWyZTAh3//6plgBvI/wgX3urcjkhdXcBS9+gu67Ax8mysiT2e7ZJZETaA6VVamNdrGgJ\n",
              "DkM9Lu8P9ORnT1F8OA+h5aDUMk4C14vw2CuZlVWd41vL8sLYVji1lwkVdjQdGtJe1Q95riwbvNpx\n",
              "WP3PN4Fz0GqOJAhf6kzZVI3lgS/EeIZnvMFcvkeQJXcbVsZiYLtKVbFIkMXuaGL/Z8MbwpmAtgI8\n",
              "GyWOsQFvPgkmcd/5YzXUYQy8i3HNd0HxiwfPL9K36w7EHgwVBjiyvZteWtXqNXd/xlVvBxHb/R2a\n",
              "6sZ6NUrd+zsA1kCXDYOaKxPPuwxs+bWhlVQO+ByV/Gpj1YO7Ve7rVNp+uSYbUkhPo4RzeGYWdfuy\n",
              "w7YVqdMzRvSn0HeW3jd1VAYni4mi+zwsLZkfwos06zT2/vRCpundVAIX8/7L8JfWroEAAAAeQZ7B\n",
              "RRUsL/8AP4v12xXxHdUxKYqrlCtgch8pOAz4AAAAHgGe4HRCvwBYkxBbXzFempY+S3q+bGuvi6bs\n",
              "NyxBvQAAABkBnuJqQr8AWKSIBbx0oVpf9ga15ikSFDMqAAABb0Ga50moQWyZTAh3//6plgBvI/wg\n",
              "Xnyrp74LS4Px529mOOzu/HsN6Zd4A5yuI3lUSbPDIxNeQha277eVW9Ok1PvPblYbQBVzT3uyB6q3\n",
              "VsLTmkddM2f4TdHuHYZo44XiSOJeYEPfqJsZEE2+KYaBYEnObCBwNTtZ7af9j7FjacwDjLxjGU9K\n",
              "X9ya50pkFrHULlighoXMLqEhtu2faVbIhjnUWpitgpC7NBD05eIFWNa4C9PMTkpesCDhTm0/blJO\n",
              "4FV9BAyNaemyvGGVCyP7zgsXG6/bhLSjHEJMH8ooDglyOeeeoWvts5UCNpo/mtiwYRNm4XE+oc2u\n",
              "rrNs7jS98cSA3pNp0EBWd2ot751nDSLJuZ4/pBfNhAgRy+j6y3k8YRE3v4mpWAiyHuYk9JM/GogZ\n",
              "MLp1UC3/Z9fcaZDimmfemNqrwHK2inO+0oxadKvPY/S20KKk2SAFFGkXTMkcIEtF8ubHTdW3BE/h\n",
              "1nlWjpkAAAApQZ8FRRUsL/8AP3X5K5yuYgnJPSeEq4aM6QFcSISmIb63tgS0xCzIu4EAAAAbAZ8k\n",
              "dEK/AFiTEFxYEZjnvT2Cw1s1JayocCPhAAAAHwGfJmpCvwBYmnbUpvWmFUCix+H0AT5FxiVv8STg\n",
              "qYEAAAEtQZsrSahBbJlMCHf//qmWAOOt8IFqKItpwGwK8GWC7Hql4FlLOC442a/qUvHSqvVIotCc\n",
              "LURWaSc/+d8DIL/HhkJqAkmbbeQNdvisAGfXvNat2XWMkltLZarxQAicviSbU3VnyNZw1tWx731e\n",
              "WYkhqtX+7lqYdDKNH8+hUtqUIijEF+mKWCJ/FaksOituDfOwOG7FBCkBJuGqSHc7R71ulYGILfkw\n",
              "mg5l7elNksG8wjleYs9If+KFAmWpVZbZheL44tOdsDgnaV9GPcUK7ndxYhHjNrf0ckXtAwIPWbCr\n",
              "vQt7Me8eM4vCemEwRjjyYJBLahTydIOZgze+VA0waM0RcTzJt8Q7yl/8mQdkMB02245ObqNO4e0X\n",
              "a89t9SErELL7kOIlmVmDPRsh52hOwAAAAB9Bn0lFFSwv/wA+Fj6m/q33soTXyxz/2RtHr3jjaBoQ\n",
              "AAAAHgGfaHRCvwAKzF5ZsELYhdtB51GNVgMszXUJEr7KgQAAABUBn2pqQr8ACs8mT84uiZWIRDK6\n",
              "ZYAAAADgQZtvSahBbJlMCHf//qmWADZVOvMZF864fACc3R3MBNKEn18V32fxdP+xoZTtOcS2XHnP\n",
              "2/O3Bk/quStrx4KCWxOtsOviDmHcmD2Yg+xvlA9ZKboj8iwrGYjyzJKGnxbio1Dafw5Tc2VRPBiv\n",
              "hPeP4SpaAUybesf0KQwfXejpjtsmXjM1vzbOAHUIfFCVXJFBTsoVmOzelxGuVRXFi1+sVYTdSqSe\n",
              "F6rPuQlqfx+2Qu1eIWX/+kaNqNQNYpIxyDBH+YetS3IxmQRL/rNO4E99tU/9pohxJ5x95WlhK6oA\n",
              "uIAAAAArQZ+NRRUsL/8AP4OJq0bcVhdw2xaL+eM5nqnROvFLrppHKhPF9G548+h3QQAAABoBn6x0\n",
              "Qr8ALEmHpte9ITpTs74l544TxPAZWQAAAA8Bn65qQr8AAHbgFqZ+WIEAAADeQZuzSahBbJlMCHf/\n",
              "/qmWADaDqf7T+l64ATrWom6i/OqbreDTVLFua3ChS2XlWLmkVTLEcRcE590v6uv+LqcafMfZKAow\n",
              "b93YBhvoyrC4bXo4Pvp4FXVe0euW7Hha5x8mVIlcm+UdUgaCvwo4Goox73bxKZgeA0JKolsbntGA\n",
              "tZIyY3KUPrU1WjQloOwQwkAwwNTRcERgCF0EPj5vfJ8P1JZoNym7lE5ZC0WlR3gUzOpfUi4msUDy\n",
              "cTa1WkyfYTNgrMsuyzcFwCojq/zjFtNbuUy2K5z1n14BsNgF0Dj4AAAAIUGf0UUVLC//AD+L9XqF\n",
              "SDMduvODrZeAleN1bfwWd7qTfgAAABsBn/B0Qr8AKymFBIzcKDD7uDBn75kziEmdER8AAAAaAZ/y\n",
              "akK/ACxV7mCp0aZXQ2uK/bOBXfvCPS8AAAC+QZv3SahBbJlMCHf//qmWADaDq3+vPRToAb0PBBSI\n",
              "lp6JJa0vC498N89prvGwcpZxxRmzGf2OzGHdnKHWNNM//FocUVTx4/Z0KsVH23fYWdCc15mBUNq2\n",
              "SO5QankLwOs59AYjpqSTgAHmVPUMSFJQ6htmq60r3gaPfAOaay7ibJoyQi5wiPRDsC4IzExTUOaq\n",
              "LqcHlCuzZ9FkwHmGshoP4kXZEb1vAyixzAhAlvICA8logKn3TZ9k8bBPT5wh/gAAACFBnhVFFSwv\n",
              "/wA/iyW53EF8laFbtUcl12yHIknApW+QV8EAAAAYAZ40dEK/AFiTDg59NzaqApvUuyIfVDjgAAAA\n",
              "GAGeNmpCvwBYof/j/c8Ge7Sk0xWOIU/oIQAAAMxBmjtJqEFsmUwIb//+p4QAbEcW5O6b1RL335AG\n",
              "45cUEXUX0zX6NOrAWHDpfhOtfBRZS+05xp6kd62Rj7TJiyn40RaeaiSa+pWwKAkYFUXgDRrzS8dV\n",
              "oXT2g9n/rpNGdIQAtSOwOo7XbcLxV76uzhJWkWJg8b2jbCLuOjmnnlVJgZ/duPEcSTnuSWCkQJRb\n",
              "ujY+0EfzoF62jpQQNiexhsiF7oh726dwL+z+TUogFihLeSa8nkvc9tShQLHslVI22dWS4wQyKd5b\n",
              "vIo/CNkAAAAoQZ5ZRRUsL/8APjEYMBmmFZY9FU9OY09iWDtQ4fXz1MK4aN5YxJAfMAAAABsBnnh0\n",
              "Qr8AWJMNHyLUsPc2cble9D57o6AQ5ZUAAAATAZ56akK/AAKy1KtbIHMxJ1SAwAAAAJhBmn9JqEFs\n",
              "mUwIZ//+nhABpbCYI5x8C9oAQQ9YLuJ+Haxia40oJNjVtPMll9rznuvJvvsENTtv+QaU9p/w/JC4\n",
              "vpkIyad+R/ugGmANgAU6lI4F91zxlYqTwBqgAUgQXCMZuDdACV6FgE/rWTQCcLvbsxlvjfgspdjq\n",
              "QzTsuPvbyxpsvhSROTJJThthRbfGq/652yEA8EHB4QAAAChBnp1FFSwv/wA+MRgX5IKOkJ8py04n\n",
              "7L+Gsv5LCcSvtB8XacD2vgO7AAAAEwGevHRCvwACsxe3S67fiEXlmS0AAAARAZ6+akK/AAKy1Ktb\n",
              "IHMx2MsAAAA4QZqjSahBbJlMCFf//jhABnSR2S1GdbWGiVytbvM2Xj874CZ9RS4AV6XRD/4sxAuF\n",
              "uIlU5GdxOmEAAAAmQZ7BRRUsL/8AP44ze9H959gAtHSXyemw845K41+gaehwcMXAakAAAAANAZ7g\n",
              "dEK/AAHE4DHrYQAAABsBnuJqQr8ABWbA4Wfk5BSUI0WNXo5BD88tEzAAAAeWbW9vdgAAAGxtdmhk\n",
              "AAAAAAAAAAAAAAAAAAAD6AAAD6AAAQAAAQAAAAAAAAAAAAAAAAEAAAAAAAAAAAAAAAAAAAABAAAA\n",
              "AAAAAAAAAAAAAABAAAAAAAAAAAAAAAAAAAAAAAAAAAAAAAAAAAAAAAAAAgAABsB0cmFrAAAAXHRr\n",
              "aGQAAAADAAAAAAAAAAAAAAABAAAAAAAAD6AAAAAAAAAAAAAAAAAAAAAAAAEAAAAAAAAAAAAAAAAA\n",
              "AAABAAAAAAAAAAAAAAAAAABAAAAAAbAAAAEgAAAAAAAkZWR0cwAAABxlbHN0AAAAAAAAAAEAAA+g\n",
              "AAAEAAABAAAAAAY4bWRpYQAAACBtZGhkAAAAAAAAAAAAAAAAAAAyAAAAyABVxAAAAAAALWhkbHIA\n",
              "AAAAAAAAAHZpZGUAAAAAAAAAAAAAAABWaWRlb0hhbmRsZXIAAAAF421pbmYAAAAUdm1oZAAAAAEA\n",
              "AAAAAAAAAAAAACRkaW5mAAAAHGRyZWYAAAAAAAAAAQAAAAx1cmwgAAAAAQAABaNzdGJsAAAAs3N0\n",
              "c2QAAAAAAAAAAQAAAKNhdmMxAAAAAAAAAAEAAAAAAAAAAAAAAAAAAAAAAbABIABIAAAASAAAAAAA\n",
              "AAABAAAAAAAAAAAAAAAAAAAAAAAAAAAAAAAAAAAAAAAAAAAAGP//AAAAMWF2Y0MBZAAV/+EAGGdk\n",
              "ABWs2UGwloQAAAMABAAAAwDIPFi2WAEABmjr48siwAAAABx1dWlka2hA8l8kT8W6OaUbzwMj8wAA\n",
              "AAAAAAAYc3R0cwAAAAAAAAABAAAAZAAAAgAAAAAUc3RzcwAAAAAAAAABAAAAAQAAAuhjdHRzAAAA\n",
              "AAAAAFsAAAAFAAAEAAAAAAEAAAgAAAAAAgAAAgAAAAABAAAGAAAAAAEAAAIAAAAAAQAABgAAAAAB\n",
              "AAACAAAAAAEAAAYAAAAAAQAAAgAAAAABAAAIAAAAAAIAAAIAAAAAAQAACAAAAAACAAACAAAAAAEA\n",
              "AAoAAAAAAQAABAAAAAABAAAAAAAAAAEAAAIAAAAAAQAACAAAAAACAAACAAAAAAEAAAoAAAAAAQAA\n",
              "BAAAAAABAAAAAAAAAAEAAAIAAAAAAQAACgAAAAABAAAEAAAAAAEAAAAAAAAAAQAAAgAAAAABAAAK\n",
              "AAAAAAEAAAQAAAAAAQAAAAAAAAABAAACAAAAAAEAAAoAAAAAAQAABAAAAAABAAAAAAAAAAEAAAIA\n",
              "AAAAAQAACgAAAAABAAAEAAAAAAEAAAAAAAAAAQAAAgAAAAABAAAGAAAAAAEAAAIAAAAAAQAACgAA\n",
              "AAABAAAEAAAAAAEAAAAAAAAAAQAAAgAAAAABAAAIAAAAAAIAAAIAAAAAAQAACgAAAAABAAAEAAAA\n",
              "AAEAAAAAAAAAAQAAAgAAAAABAAAKAAAAAAEAAAQAAAAAAQAAAAAAAAABAAACAAAAAAEAAAoAAAAA\n",
              "AQAABAAAAAABAAAAAAAAAAEAAAIAAAAAAQAACgAAAAABAAAEAAAAAAEAAAAAAAAAAQAAAgAAAAAB\n",
              "AAAKAAAAAAEAAAQAAAAAAQAAAAAAAAABAAACAAAAAAEAAAoAAAAAAQAABAAAAAABAAAAAAAAAAEA\n",
              "AAIAAAAAAQAACgAAAAABAAAEAAAAAAEAAAAAAAAAAQAAAgAAAAABAAAKAAAAAAEAAAQAAAAAAQAA\n",
              "AAAAAAABAAACAAAAAAEAAAoAAAAAAQAABAAAAAABAAAAAAAAAAEAAAIAAAAAAQAACgAAAAABAAAE\n",
              "AAAAAAEAAAAAAAAAAQAAAgAAAAABAAAKAAAAAAEAAAQAAAAAAQAAAAAAAAABAAACAAAAABxzdHNj\n",
              "AAAAAAAAAAEAAAABAAAAZAAAAAEAAAGkc3RzegAAAAAAAAAAAAAAZAAADhcAAAKOAAAB2AAAAZoA\n",
              "AAHKAAACgAAAAGgAAABNAAAB2wAAADQAAAHCAAAAPwAAAaYAAAAuAAAB+gAAAEEAAAAfAAABpQAA\n",
              "ADYAAAAeAAACBgAAADoAAAAvAAAAKwAAAW4AAAArAAAAIgAAAaYAAABBAAAAIgAAACgAAAHXAAAA\n",
              "PgAAACoAAAAVAAABUQAAADQAAAAjAAAAIAAAAYsAAAAeAAAAKAAAABoAAAFRAAAAGAAAACUAAAAh\n",
              "AAABDwAAACIAAAFxAAAAKAAAACYAAAAhAAABQwAAAC0AAAAcAAABVwAAACIAAAAdAAAAGgAAAUIA\n",
              "AAAoAAAAIAAAABwAAAFSAAAAIgAAACIAAAAdAAABcwAAAC0AAAAfAAAAIwAAATEAAAAjAAAAIgAA\n",
              "ABkAAADkAAAALwAAAB4AAAATAAAA4gAAACUAAAAfAAAAHgAAAMIAAAAlAAAAHAAAABwAAADQAAAA\n",
              "LAAAAB8AAAAXAAAAnAAAACwAAAAXAAAAFQAAADwAAAAqAAAAEQAAAB8AAAAUc3RjbwAAAAAAAAAB\n",
              "AAAALAAAAGJ1ZHRhAAAAWm1ldGEAAAAAAAAAIWhkbHIAAAAAAAAAAG1kaXJhcHBsAAAAAAAAAAAA\n",
              "AAAALWlsc3QAAAAlqXRvbwAAAB1kYXRhAAAAAQAAAABMYXZmNTcuODMuMTAw\n",
              "\">\n",
              "  Your browser does not support the video tag.\n",
              "</video>"
            ],
            "text/plain": [
              "<IPython.core.display.HTML object>"
            ]
          },
          "metadata": {
            "tags": []
          },
          "execution_count": 238
        }
      ]
    },
    {
      "metadata": {
        "id": "bSCe_YXuzZzH",
        "colab_type": "code",
        "colab": {}
      },
      "cell_type": "code",
      "source": [
        ""
      ],
      "execution_count": 0,
      "outputs": []
    }
  ]
}